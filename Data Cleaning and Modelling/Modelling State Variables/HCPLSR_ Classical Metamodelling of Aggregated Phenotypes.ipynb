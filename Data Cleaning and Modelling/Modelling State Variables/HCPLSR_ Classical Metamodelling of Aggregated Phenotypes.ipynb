{
 "cells": [
  {
   "cell_type": "code",
   "execution_count": 1,
   "metadata": {},
   "outputs": [],
   "source": [
    "import numpy as np\n",
    "import matplotlib.pyplot as plt\n",
    "import seaborn as sns\n",
    "import pandas as pd\n",
    "from sklearn.cross_decomposition import PLSRegression\n",
    "from sklearn.model_selection import train_test_split\n",
    "from sklearn.preprocessing import StandardScaler"
   ]
  },
  {
   "cell_type": "code",
   "execution_count": 2,
   "metadata": {},
   "outputs": [],
   "source": [
    "from sklearn.metrics import mean_squared_error, r2_score\n",
    "from sklearn.model_selection import cross_val_predict\n",
    "from sys import stdout"
   ]
  },
  {
   "cell_type": "code",
   "execution_count": 3,
   "metadata": {},
   "outputs": [
    {
     "data": {
      "text/plain": [
       "<Figure size 640x480 with 0 Axes>"
      ]
     },
     "execution_count": 3,
     "metadata": {},
     "output_type": "execute_result"
    },
    {
     "data": {
      "text/plain": [
       "<Figure size 640x480 with 0 Axes>"
      ]
     },
     "metadata": {},
     "output_type": "display_data"
    }
   ],
   "source": [
    "from matplotlib.pyplot import figure\n",
    "figure(num=None, figsize=(8, 6), dpi=80, facecolor='w', edgecolor='k')"
   ]
  },
  {
   "cell_type": "markdown",
   "metadata": {},
   "source": [
    "## Global PLSR"
   ]
  },
  {
   "cell_type": "code",
   "execution_count": 4,
   "metadata": {},
   "outputs": [],
   "source": [
    "Total_X_data = pd.read_csv(\"X_data.csv\")\n",
    "Total_Y_data = pd.read_csv(\"PHN_aggregatd.csv\")\n",
    "\n",
    "Total_X_data.drop(\"Unnamed: 0\", axis=1, inplace=True)\n",
    "Total_Y_data.drop([\"Unnamed: 0\", \"n_ap\"], axis=1, inplace=True)"
   ]
  },
  {
   "cell_type": "code",
   "execution_count": 5,
   "metadata": {},
   "outputs": [],
   "source": [
    "X_test = Total_X_data[:1068]\n",
    "Y_test = Total_Y_data[:1068]"
   ]
  },
  {
   "cell_type": "code",
   "execution_count": 6,
   "metadata": {},
   "outputs": [],
   "source": [
    "X_data = Total_X_data[1068:]\n",
    "Y_data = Total_Y_data[1068:]"
   ]
  },
  {
   "cell_type": "code",
   "execution_count": 7,
   "metadata": {},
   "outputs": [
    {
     "data": {
      "text/html": [
       "<div>\n",
       "<style scoped>\n",
       "    .dataframe tbody tr th:only-of-type {\n",
       "        vertical-align: middle;\n",
       "    }\n",
       "\n",
       "    .dataframe tbody tr th {\n",
       "        vertical-align: top;\n",
       "    }\n",
       "\n",
       "    .dataframe thead th {\n",
       "        text-align: right;\n",
       "    }\n",
       "</style>\n",
       "<table border=\"1\" class=\"dataframe\">\n",
       "  <thead>\n",
       "    <tr style=\"text-align: right;\">\n",
       "      <th></th>\n",
       "      <th>first_ap_time</th>\n",
       "      <th>first_ap_amp</th>\n",
       "      <th>first_ap_width</th>\n",
       "    </tr>\n",
       "  </thead>\n",
       "  <tbody>\n",
       "    <tr>\n",
       "      <th>0</th>\n",
       "      <td>6</td>\n",
       "      <td>58.881427</td>\n",
       "      <td>13.620909</td>\n",
       "    </tr>\n",
       "    <tr>\n",
       "      <th>1</th>\n",
       "      <td>6</td>\n",
       "      <td>46.183495</td>\n",
       "      <td>7.132705</td>\n",
       "    </tr>\n",
       "    <tr>\n",
       "      <th>2</th>\n",
       "      <td>7</td>\n",
       "      <td>34.122383</td>\n",
       "      <td>8.834176</td>\n",
       "    </tr>\n",
       "    <tr>\n",
       "      <th>3</th>\n",
       "      <td>7</td>\n",
       "      <td>41.796535</td>\n",
       "      <td>4.948380</td>\n",
       "    </tr>\n",
       "    <tr>\n",
       "      <th>4</th>\n",
       "      <td>6</td>\n",
       "      <td>57.832149</td>\n",
       "      <td>52.102653</td>\n",
       "    </tr>\n",
       "    <tr>\n",
       "      <th>...</th>\n",
       "      <td>...</td>\n",
       "      <td>...</td>\n",
       "      <td>...</td>\n",
       "    </tr>\n",
       "    <tr>\n",
       "      <th>5339</th>\n",
       "      <td>7</td>\n",
       "      <td>42.798500</td>\n",
       "      <td>8.396907</td>\n",
       "    </tr>\n",
       "    <tr>\n",
       "      <th>5340</th>\n",
       "      <td>7</td>\n",
       "      <td>52.140596</td>\n",
       "      <td>73.301461</td>\n",
       "    </tr>\n",
       "    <tr>\n",
       "      <th>5341</th>\n",
       "      <td>7</td>\n",
       "      <td>46.796831</td>\n",
       "      <td>8.157181</td>\n",
       "    </tr>\n",
       "    <tr>\n",
       "      <th>5342</th>\n",
       "      <td>7</td>\n",
       "      <td>53.797265</td>\n",
       "      <td>16.934689</td>\n",
       "    </tr>\n",
       "    <tr>\n",
       "      <th>5343</th>\n",
       "      <td>6</td>\n",
       "      <td>39.336463</td>\n",
       "      <td>11.322435</td>\n",
       "    </tr>\n",
       "  </tbody>\n",
       "</table>\n",
       "<p>5344 rows × 3 columns</p>\n",
       "</div>"
      ],
      "text/plain": [
       "      first_ap_time  first_ap_amp  first_ap_width\n",
       "0                 6     58.881427       13.620909\n",
       "1                 6     46.183495        7.132705\n",
       "2                 7     34.122383        8.834176\n",
       "3                 7     41.796535        4.948380\n",
       "4                 6     57.832149       52.102653\n",
       "...             ...           ...             ...\n",
       "5339              7     42.798500        8.396907\n",
       "5340              7     52.140596       73.301461\n",
       "5341              7     46.796831        8.157181\n",
       "5342              7     53.797265       16.934689\n",
       "5343              6     39.336463       11.322435\n",
       "\n",
       "[5344 rows x 3 columns]"
      ]
     },
     "execution_count": 7,
     "metadata": {},
     "output_type": "execute_result"
    }
   ],
   "source": [
    "Total_Y_data"
   ]
  },
  {
   "cell_type": "markdown",
   "metadata": {},
   "source": [
    "## Scaling and splitting the X_data and Y_data"
   ]
  },
  {
   "cell_type": "code",
   "execution_count": 8,
   "metadata": {},
   "outputs": [],
   "source": [
    "scaler_x = StandardScaler().fit(X_data)\n",
    "scaler_y = StandardScaler().fit(Y_data)\n",
    "\n",
    "X_data = scaler_x.transform(X_data)\n",
    "Y_data = scaler_y.transform(Y_data)"
   ]
  },
  {
   "cell_type": "code",
   "execution_count": 9,
   "metadata": {},
   "outputs": [
    {
     "data": {
      "text/plain": [
       "array([[-1.14955359e+00, -1.10319564e+00,  1.30369352e-01, ...,\n",
       "         1.28923763e+00, -1.44543133e+00,  1.72684630e+00],\n",
       "       [ 5.89295984e-01, -9.44241236e-01, -1.62083958e+00, ...,\n",
       "        -3.63682478e-01,  1.32434612e+00,  1.03999608e+00],\n",
       "       [ 9.09610346e-01, -1.59867768e+00, -1.19346753e+00, ...,\n",
       "        -1.12898833e+00, -5.87891388e-01, -5.07227755e-01],\n",
       "       ...,\n",
       "       [ 8.98993485e-01, -7.45896139e-04, -5.08781753e-01, ...,\n",
       "         7.70895116e-01, -7.65495875e-01,  7.22655906e-01],\n",
       "       [ 3.58513426e-01,  1.18161807e+00, -1.48958987e+00, ...,\n",
       "         1.12434672e+00, -1.53420078e+00, -1.10967478e+00],\n",
       "       [-6.76472643e-01, -9.23717539e-01,  1.45481438e+00, ...,\n",
       "        -3.20371935e-01,  1.11780395e+00, -1.17143884e+00]])"
      ]
     },
     "execution_count": 9,
     "metadata": {},
     "output_type": "execute_result"
    }
   ],
   "source": [
    "X_data"
   ]
  },
  {
   "cell_type": "code",
   "execution_count": 10,
   "metadata": {},
   "outputs": [],
   "source": [
    "X_train, X_val, y_train, y_val = train_test_split(X_data,Y_data,test_size=0.2,random_state=357, shuffle=True)"
   ]
  },
  {
   "cell_type": "markdown",
   "metadata": {},
   "source": [
    "## Finding optimal number of PLS components for global Model"
   ]
  },
  {
   "cell_type": "code",
   "execution_count": 11,
   "metadata": {},
   "outputs": [],
   "source": [
    "def optimise_pls_cv(X, y, n_comp):\n",
    "    # Define PLS object\n",
    "    pls = PLSRegression(n_components=n_comp, max_iter=1000)\n",
    "\n",
    "    # Cross-validation\n",
    "    y_cv = cross_val_predict(pls, X, y, cv=10)\n",
    "\n",
    "    # Calculate scores\n",
    "    r2 = r2_score(y, y_cv)\n",
    "    mse = mean_squared_error(y, y_cv)\n",
    "   \n",
    "    \n",
    "    return (y_cv, r2, mse)"
   ]
  },
  {
   "cell_type": "code",
   "execution_count": 12,
   "metadata": {},
   "outputs": [],
   "source": [
    "# test with 15 components\n",
    "r2s = []\n",
    "mses = []\n",
    "rpds = []\n",
    "xticks = np.arange(1, 15)\n",
    "for n_comp in xticks:\n",
    "    y_cv, r2, mse = optimise_pls_cv(X_data, Y_data, n_comp)\n",
    "    r2s.append(r2)\n",
    "    mses.append(mse)\n",
    "   \n"
   ]
  },
  {
   "cell_type": "code",
   "execution_count": 13,
   "metadata": {},
   "outputs": [],
   "source": [
    "# Plot the mses\n",
    "def plot_metrics(vals, ylabel, objective):\n",
    "    with plt.style.context('ggplot'):\n",
    "        plt.plot(xticks, np.array(vals), '-v', color='blue', mfc='blue')\n",
    "        if objective=='min':\n",
    "            idx = np.argmin(vals)\n",
    "        else:\n",
    "            idx = np.argmax(vals)\n",
    "        plt.plot(xticks[idx], np.array(vals)[idx], 'P', ms=10, mfc='red')\n",
    "\n",
    "        plt.xlabel('Number of PLS components')\n",
    "        plt.xticks = xticks\n",
    "        plt.ylabel(ylabel)\n",
    "        plt.title('PLS')\n",
    "\n",
    "    plt.show()"
   ]
  },
  {
   "cell_type": "code",
   "execution_count": 14,
   "metadata": {},
   "outputs": [
    {
     "data": {
      "image/png": "[encoded data removed]",
      "text/plain": [
       "<Figure size 432x288 with 1 Axes>"
      ]
     },
     "metadata": {},
     "output_type": "display_data"
    }
   ],
   "source": [
    "plot_metrics(mses, 'MSE', 'min')"
   ]
  },
  {
   "cell_type": "code",
   "execution_count": 15,
   "metadata": {},
   "outputs": [
    {
     "data": {
      "image/png": "[encoded data removed]",
      "text/plain": [
       "<Figure size 432x288 with 1 Axes>"
      ]
     },
     "metadata": {},
     "output_type": "display_data"
    }
   ],
   "source": [
    "plot_metrics(r2s, 'R2', 'max')"
   ]
  },
  {
   "cell_type": "markdown",
   "metadata": {},
   "source": [
    "## Predictions from global PLSR"
   ]
  },
  {
   "cell_type": "code",
   "execution_count": 16,
   "metadata": {},
   "outputs": [],
   "source": [
    "global_pls = PLSRegression(n_components=8)\n",
    "\n",
    "# Fit\n",
    "global_pls.fit(X_data, Y_data)\n",
    "\n",
    "# Cross-validation\n",
    "y_cv = cross_val_predict(global_pls, X_data, Y_data, cv=10)\n",
    "\n",
    "# Calculate scores\n",
    "score = r2_score(Y_data, y_cv)\n",
    "mse = mean_squared_error(Y_data, y_cv)"
   ]
  },
  {
   "cell_type": "code",
   "execution_count": 17,
   "metadata": {},
   "outputs": [
    {
     "data": {
      "text/plain": [
       "0.6083916936306141"
      ]
     },
     "execution_count": 17,
     "metadata": {},
     "output_type": "execute_result"
    }
   ],
   "source": [
    "score"
   ]
  },
  {
   "cell_type": "code",
   "execution_count": 18,
   "metadata": {},
   "outputs": [
    {
     "data": {
      "text/plain": [
       "0.3916083063693859"
      ]
     },
     "execution_count": 18,
     "metadata": {},
     "output_type": "execute_result"
    }
   ],
   "source": [
    "mse"
   ]
  },
  {
   "cell_type": "code",
   "execution_count": 19,
   "metadata": {},
   "outputs": [],
   "source": [
    "##predictions"
   ]
  },
  {
   "cell_type": "code",
   "execution_count": 20,
   "metadata": {},
   "outputs": [],
   "source": [
    "X_test = Total_X_data[:1068]\n",
    "Y_test = Total_Y_data[:1068]"
   ]
  },
  {
   "cell_type": "code",
   "execution_count": 21,
   "metadata": {},
   "outputs": [],
   "source": [
    "Test_X_data = scaler_x.transform(X_test)\n",
    "Test_Y_data = scaler_y.transform(Y_test)"
   ]
  },
  {
   "cell_type": "code",
   "execution_count": 22,
   "metadata": {},
   "outputs": [
    {
     "name": "stdout",
     "output_type": "stream",
     "text": [
      "0.613199622781279\n"
     ]
    }
   ],
   "source": [
    "ypred2 = global_pls.predict(Test_X_data)\n",
    "print(r2_score(Test_Y_data,ypred2))"
   ]
  },
  {
   "cell_type": "code",
   "execution_count": 23,
   "metadata": {},
   "outputs": [
    {
     "data": {
      "text/plain": [
       "Index(['first_ap_time', 'first_ap_amp', 'first_ap_width'], dtype='object')"
      ]
     },
     "execution_count": 23,
     "metadata": {},
     "output_type": "execute_result"
    }
   ],
   "source": [
    "Total_Y_data.columns"
   ]
  },
  {
   "cell_type": "code",
   "execution_count": 24,
   "metadata": {},
   "outputs": [],
   "source": [
    "names = ['first_ap_time', 'first_ap_amp', 'first_ap_width']"
   ]
  },
  {
   "cell_type": "code",
   "execution_count": 25,
   "metadata": {},
   "outputs": [
    {
     "data": {
      "text/html": [
       "<div>\n",
       "<style scoped>\n",
       "    .dataframe tbody tr th:only-of-type {\n",
       "        vertical-align: middle;\n",
       "    }\n",
       "\n",
       "    .dataframe tbody tr th {\n",
       "        vertical-align: top;\n",
       "    }\n",
       "\n",
       "    .dataframe thead th {\n",
       "        text-align: right;\n",
       "    }\n",
       "</style>\n",
       "<table border=\"1\" class=\"dataframe\">\n",
       "  <thead>\n",
       "    <tr style=\"text-align: right;\">\n",
       "      <th></th>\n",
       "      <th>r2_score</th>\n",
       "    </tr>\n",
       "  </thead>\n",
       "  <tbody>\n",
       "    <tr>\n",
       "      <th>first_ap_time</th>\n",
       "      <td>0.682207</td>\n",
       "    </tr>\n",
       "    <tr>\n",
       "      <th>first_ap_amp</th>\n",
       "      <td>0.913587</td>\n",
       "    </tr>\n",
       "    <tr>\n",
       "      <th>first_ap_width</th>\n",
       "      <td>0.243805</td>\n",
       "    </tr>\n",
       "  </tbody>\n",
       "</table>\n",
       "</div>"
      ],
      "text/plain": [
       "                r2_score\n",
       "first_ap_time   0.682207\n",
       "first_ap_amp    0.913587\n",
       "first_ap_width  0.243805"
      ]
     },
     "execution_count": 25,
     "metadata": {},
     "output_type": "execute_result"
    }
   ],
   "source": [
    "results_df = pd.DataFrame()\n",
    "ypred = global_pls.predict(Test_X_data)\n",
    "\n",
    "extra_results_df = pd.DataFrame([r2_score(Test_Y_data[:,i],ypred[:,i]) for i in range(len(names))],index=names,columns=['r2_score'])\n",
    "results_df = pd.concat([results_df,extra_results_df],axis=1)\n",
    "results_df"
   ]
  },
  {
   "cell_type": "markdown",
   "metadata": {},
   "source": [
    "## Getting global X and Y scores"
   ]
  },
  {
   "cell_type": "code",
   "execution_count": 26,
   "metadata": {},
   "outputs": [],
   "source": [
    "X_scores = global_pls.x_scores_\n",
    "Y_scores = global_pls.y_scores_"
   ]
  },
  {
   "cell_type": "code",
   "execution_count": 27,
   "metadata": {},
   "outputs": [
    {
     "data": {
      "text/plain": [
       "(4276, 8)"
      ]
     },
     "execution_count": 27,
     "metadata": {},
     "output_type": "execute_result"
    }
   ],
   "source": [
    "X_scores.shape"
   ]
  },
  {
   "cell_type": "code",
   "execution_count": 28,
   "metadata": {},
   "outputs": [
    {
     "data": {
      "text/plain": [
       "(4276, 8)"
      ]
     },
     "execution_count": 28,
     "metadata": {},
     "output_type": "execute_result"
    }
   ],
   "source": [
    "Y_scores.shape"
   ]
  },
  {
   "cell_type": "code",
   "execution_count": 29,
   "metadata": {},
   "outputs": [],
   "source": [
    "#initial plot"
   ]
  },
  {
   "cell_type": "code",
   "execution_count": 30,
   "metadata": {},
   "outputs": [
    {
     "data": {
      "text/plain": [
       "<matplotlib.collections.PathCollection at 0x18af42414e0>"
      ]
     },
     "execution_count": 30,
     "metadata": {},
     "output_type": "execute_result"
    },
    {
     "data": {
      "image/png": "[encoded data removed]",
      "text/plain": [
       "<Figure size 432x288 with 1 Axes>"
      ]
     },
     "metadata": {
      "needs_background": "light"
     },
     "output_type": "display_data"
    }
   ],
   "source": [
    "plt.scatter(X_scores[:,0], X_scores[:,1])"
   ]
  },
  {
   "cell_type": "code",
   "execution_count": 31,
   "metadata": {},
   "outputs": [],
   "source": [
    "#### yaha  bata suru"
   ]
  },
  {
   "cell_type": "markdown",
   "metadata": {},
   "source": [
    "## Clustering with X_scores"
   ]
  },
  {
   "cell_type": "code",
   "execution_count": 32,
   "metadata": {},
   "outputs": [],
   "source": [
    " from sklearn.cluster import KMeans"
   ]
  },
  {
   "cell_type": "code",
   "execution_count": 33,
   "metadata": {},
   "outputs": [
    {
     "data": {
      "image/png": "[encoded data removed]",
      "text/plain": [
       "<Figure size 432x288 with 1 Axes>"
      ]
     },
     "metadata": {
      "needs_background": "light"
     },
     "output_type": "display_data"
    }
   ],
   "source": [
    "distortions = []\n",
    "for i in range(1, 15):\n",
    "    km = KMeans(n_clusters=i, \n",
    "                init='k-means++', \n",
    "                n_init=10, \n",
    "                max_iter=300, \n",
    "                random_state=0)\n",
    "    y_km = km.fit(X_scores)\n",
    "    distortions.append(km.inertia_)\n",
    "plt.plot(range(1, 15), distortions, marker='o')\n",
    "plt.xlabel('Number of clusters')\n",
    "plt.ylabel('Distortion')\n",
    "plt.tight_layout()\n"
   ]
  },
  {
   "cell_type": "code",
   "execution_count": 34,
   "metadata": {},
   "outputs": [],
   "source": [
    "from yellowbrick.cluster import KElbowVisualizer"
   ]
  },
  {
   "cell_type": "code",
   "execution_count": 35,
   "metadata": {},
   "outputs": [
    {
     "data": {
      "image/png": "[encoded data removed]",
      "text/plain": [
       "<Figure size 576x396 with 2 Axes>"
      ]
     },
     "metadata": {},
     "output_type": "display_data"
    },
    {
     "data": {
      "text/plain": [
       "<matplotlib.axes._subplots.AxesSubplot at 0x18af42860f0>"
      ]
     },
     "execution_count": 35,
     "metadata": {},
     "output_type": "execute_result"
    }
   ],
   "source": [
    "model = KMeans()\n",
    "visualizer = KElbowVisualizer(model, k=(2,12))\n",
    "\n",
    "visualizer.fit(X_scores)        # Fit the data to the visualizer\n",
    "visualizer.show()"
   ]
  },
  {
   "cell_type": "code",
   "execution_count": 86,
   "metadata": {},
   "outputs": [
    {
     "data": {
      "image/png": "[encoded data removed]",
      "text/plain": [
       "<Figure size 576x396 with 1 Axes>"
      ]
     },
     "metadata": {},
     "output_type": "display_data"
    }
   ],
   "source": [
    "from sklearn.metrics import silhouette_samples\n",
    "from matplotlib import cm\n",
    "\n",
    "km = KMeans(n_clusters=6, \n",
    "            init='k-means++', \n",
    "            n_init=10, \n",
    "            max_iter=500,\n",
    "            tol=1e-04,\n",
    "            random_state=377)\n",
    "y_km = km.fit_predict(X_scores)\n",
    "\n",
    "cluster_labels = np.unique(y_km)\n",
    "n_clusters = cluster_labels.shape[0]\n",
    "silhouette_vals = silhouette_samples(X_scores, y_km, metric='euclidean')\n",
    "y_ax_lower, y_ax_upper = 0, 0\n",
    "yticks = []\n",
    "for i, c in enumerate(cluster_labels):\n",
    "    c_silhouette_vals = silhouette_vals[y_km == c]\n",
    "    c_silhouette_vals.sort()\n",
    "    y_ax_upper += len(c_silhouette_vals)\n",
    "    color = cm.jet(float(i) / n_clusters)\n",
    "    plt.barh(range(y_ax_lower, y_ax_upper), c_silhouette_vals, height=1.0, \n",
    "             edgecolor='none', color=color)\n",
    "\n",
    "    yticks.append((y_ax_lower + y_ax_upper) / 2.)\n",
    "    y_ax_lower += len(c_silhouette_vals)\n",
    "    \n",
    "silhouette_avg = np.mean(silhouette_vals)\n",
    "plt.axvline(silhouette_avg, color=\"red\", linestyle=\"--\") \n",
    "\n",
    "plt.yticks(yticks, cluster_labels + 1)\n",
    "plt.ylabel('Cluster')\n",
    "plt.xlabel('Silhouette coefficient')\n",
    "\n",
    "plt.tight_layout()\n"
   ]
  },
  {
   "cell_type": "code",
   "execution_count": 87,
   "metadata": {},
   "outputs": [
    {
     "data": {
      "image/png": "[encoded data removed]",
      "text/plain": [
       "<Figure size 576x396 with 1 Axes>"
      ]
     },
     "metadata": {},
     "output_type": "display_data"
    }
   ],
   "source": [
    "km = KMeans(n_clusters=6, \n",
    "            init='k-means++', \n",
    "            n_init=10, \n",
    "            max_iter=300,\n",
    "            tol=1e-04,\n",
    "            random_state=0)\n",
    "\n",
    "y_km = km.fit_predict(Y_scores)\n",
    "\n",
    "\n",
    "plt.scatter(X_scores[y_km == 0, 0],\n",
    "            X_scores[y_km == 0, 1],\n",
    "            s=50, c='lightgreen',\n",
    "            marker='s', edgecolor='black',\n",
    "            label='Cluster 1')\n",
    "plt.scatter(X_scores[y_km == 1, 0],\n",
    "           X_scores[y_km == 1, 1],\n",
    "            s=50, c='orange',\n",
    "            marker='o', edgecolor='black',\n",
    "            label='Cluster 2')\n",
    "plt.scatter(X_scores[y_km == 2, 1],\n",
    "           X_scores[y_km == 2, 2],\n",
    "            s=50, c='lightblue',\n",
    "            marker='o', edgecolor='black',\n",
    "            label='Cluster 3')\n",
    "plt.scatter(X_scores[y_km == 3, 2],\n",
    "           X_scores[y_km == 3, 3],\n",
    "            s=50, c='yellow',\n",
    "            marker='o', edgecolor='black',\n",
    "            label='Cluster 4')\n",
    "plt.scatter(X_scores[y_km == 4, 3],\n",
    "           X_scores[y_km == 4, 4],\n",
    "            s=50, c='maroon',\n",
    "            marker='o', edgecolor='black',\n",
    "            label='Cluster 4')\n",
    "plt.scatter(km.cluster_centers_[:, 0],\n",
    "            km.cluster_centers_[:, 1],\n",
    "            s=250, marker='*',\n",
    "            c='red', edgecolor='black',\n",
    "            label='Centroids')\n",
    "plt.legend(scatterpoints=1)\n",
    "plt.grid()\n",
    "plt.tight_layout()\n",
    "#plt.savefig('images/11_02.png', dpi=300)\n",
    "plt.show()"
   ]
  },
  {
   "cell_type": "code",
   "execution_count": 88,
   "metadata": {},
   "outputs": [
    {
     "data": {
      "text/plain": [
       "array([1, 1, 4, ..., 2, 0, 4])"
      ]
     },
     "execution_count": 88,
     "metadata": {},
     "output_type": "execute_result"
    }
   ],
   "source": [
    "y_km"
   ]
  },
  {
   "cell_type": "code",
   "execution_count": 89,
   "metadata": {},
   "outputs": [],
   "source": [
    "X_score_df = pd.DataFrame(X_scores)"
   ]
  },
  {
   "cell_type": "code",
   "execution_count": 90,
   "metadata": {},
   "outputs": [
    {
     "data": {
      "text/html": [
       "<div>\n",
       "<style scoped>\n",
       "    .dataframe tbody tr th:only-of-type {\n",
       "        vertical-align: middle;\n",
       "    }\n",
       "\n",
       "    .dataframe tbody tr th {\n",
       "        vertical-align: top;\n",
       "    }\n",
       "\n",
       "    .dataframe thead th {\n",
       "        text-align: right;\n",
       "    }\n",
       "</style>\n",
       "<table border=\"1\" class=\"dataframe\">\n",
       "  <thead>\n",
       "    <tr style=\"text-align: right;\">\n",
       "      <th></th>\n",
       "      <th>0</th>\n",
       "      <th>1</th>\n",
       "      <th>2</th>\n",
       "      <th>3</th>\n",
       "      <th>4</th>\n",
       "      <th>5</th>\n",
       "      <th>6</th>\n",
       "      <th>7</th>\n",
       "    </tr>\n",
       "  </thead>\n",
       "  <tbody>\n",
       "    <tr>\n",
       "      <th>0</th>\n",
       "      <td>-1.659269</td>\n",
       "      <td>0.137912</td>\n",
       "      <td>-0.503717</td>\n",
       "      <td>-1.191325</td>\n",
       "      <td>0.441221</td>\n",
       "      <td>1.695298</td>\n",
       "      <td>-0.659309</td>\n",
       "      <td>-1.075218</td>\n",
       "    </tr>\n",
       "    <tr>\n",
       "      <th>1</th>\n",
       "      <td>1.615011</td>\n",
       "      <td>1.288685</td>\n",
       "      <td>0.457449</td>\n",
       "      <td>-1.125403</td>\n",
       "      <td>-0.691048</td>\n",
       "      <td>0.679121</td>\n",
       "      <td>0.294277</td>\n",
       "      <td>-1.161827</td>\n",
       "    </tr>\n",
       "    <tr>\n",
       "      <th>2</th>\n",
       "      <td>-1.071765</td>\n",
       "      <td>0.360776</td>\n",
       "      <td>0.429568</td>\n",
       "      <td>0.000258</td>\n",
       "      <td>-0.230236</td>\n",
       "      <td>0.647133</td>\n",
       "      <td>-0.351384</td>\n",
       "      <td>0.084188</td>\n",
       "    </tr>\n",
       "    <tr>\n",
       "      <th>3</th>\n",
       "      <td>-0.585354</td>\n",
       "      <td>1.721321</td>\n",
       "      <td>0.559554</td>\n",
       "      <td>0.524083</td>\n",
       "      <td>0.423090</td>\n",
       "      <td>-2.655619</td>\n",
       "      <td>0.979959</td>\n",
       "      <td>-1.428075</td>\n",
       "    </tr>\n",
       "    <tr>\n",
       "      <th>4</th>\n",
       "      <td>-0.138216</td>\n",
       "      <td>0.362481</td>\n",
       "      <td>1.644938</td>\n",
       "      <td>-0.405064</td>\n",
       "      <td>0.077312</td>\n",
       "      <td>-0.768841</td>\n",
       "      <td>0.736434</td>\n",
       "      <td>0.365725</td>\n",
       "    </tr>\n",
       "    <tr>\n",
       "      <th>...</th>\n",
       "      <td>...</td>\n",
       "      <td>...</td>\n",
       "      <td>...</td>\n",
       "      <td>...</td>\n",
       "      <td>...</td>\n",
       "      <td>...</td>\n",
       "      <td>...</td>\n",
       "      <td>...</td>\n",
       "    </tr>\n",
       "    <tr>\n",
       "      <th>4271</th>\n",
       "      <td>-0.652277</td>\n",
       "      <td>0.018154</td>\n",
       "      <td>-0.932543</td>\n",
       "      <td>-2.547121</td>\n",
       "      <td>-1.212662</td>\n",
       "      <td>1.254672</td>\n",
       "      <td>0.643867</td>\n",
       "      <td>-0.834654</td>\n",
       "    </tr>\n",
       "    <tr>\n",
       "      <th>4272</th>\n",
       "      <td>-0.189907</td>\n",
       "      <td>-0.429355</td>\n",
       "      <td>0.150455</td>\n",
       "      <td>-2.154215</td>\n",
       "      <td>0.871342</td>\n",
       "      <td>0.013126</td>\n",
       "      <td>-1.330322</td>\n",
       "      <td>-0.822954</td>\n",
       "    </tr>\n",
       "    <tr>\n",
       "      <th>4273</th>\n",
       "      <td>0.302485</td>\n",
       "      <td>0.462996</td>\n",
       "      <td>-0.727287</td>\n",
       "      <td>0.161395</td>\n",
       "      <td>0.998660</td>\n",
       "      <td>-1.961543</td>\n",
       "      <td>-1.233265</td>\n",
       "      <td>-0.281278</td>\n",
       "    </tr>\n",
       "    <tr>\n",
       "      <th>4274</th>\n",
       "      <td>0.375454</td>\n",
       "      <td>-0.728032</td>\n",
       "      <td>-1.044260</td>\n",
       "      <td>1.084774</td>\n",
       "      <td>0.328865</td>\n",
       "      <td>0.220368</td>\n",
       "      <td>-0.504772</td>\n",
       "      <td>-2.294968</td>\n",
       "    </tr>\n",
       "    <tr>\n",
       "      <th>4275</th>\n",
       "      <td>-0.722547</td>\n",
       "      <td>1.664428</td>\n",
       "      <td>0.738958</td>\n",
       "      <td>0.502147</td>\n",
       "      <td>1.026120</td>\n",
       "      <td>-0.054398</td>\n",
       "      <td>0.277712</td>\n",
       "      <td>1.165959</td>\n",
       "    </tr>\n",
       "  </tbody>\n",
       "</table>\n",
       "<p>4276 rows × 8 columns</p>\n",
       "</div>"
      ],
      "text/plain": [
       "             0         1         2         3         4         5         6  \\\n",
       "0    -1.659269  0.137912 -0.503717 -1.191325  0.441221  1.695298 -0.659309   \n",
       "1     1.615011  1.288685  0.457449 -1.125403 -0.691048  0.679121  0.294277   \n",
       "2    -1.071765  0.360776  0.429568  0.000258 -0.230236  0.647133 -0.351384   \n",
       "3    -0.585354  1.721321  0.559554  0.524083  0.423090 -2.655619  0.979959   \n",
       "4    -0.138216  0.362481  1.644938 -0.405064  0.077312 -0.768841  0.736434   \n",
       "...        ...       ...       ...       ...       ...       ...       ...   \n",
       "4271 -0.652277  0.018154 -0.932543 -2.547121 -1.212662  1.254672  0.643867   \n",
       "4272 -0.189907 -0.429355  0.150455 -2.154215  0.871342  0.013126 -1.330322   \n",
       "4273  0.302485  0.462996 -0.727287  0.161395  0.998660 -1.961543 -1.233265   \n",
       "4274  0.375454 -0.728032 -1.044260  1.084774  0.328865  0.220368 -0.504772   \n",
       "4275 -0.722547  1.664428  0.738958  0.502147  1.026120 -0.054398  0.277712   \n",
       "\n",
       "             7  \n",
       "0    -1.075218  \n",
       "1    -1.161827  \n",
       "2     0.084188  \n",
       "3    -1.428075  \n",
       "4     0.365725  \n",
       "...        ...  \n",
       "4271 -0.834654  \n",
       "4272 -0.822954  \n",
       "4273 -0.281278  \n",
       "4274 -2.294968  \n",
       "4275  1.165959  \n",
       "\n",
       "[4276 rows x 8 columns]"
      ]
     },
     "execution_count": 90,
     "metadata": {},
     "output_type": "execute_result"
    }
   ],
   "source": [
    "X_score_df"
   ]
  },
  {
   "cell_type": "code",
   "execution_count": 91,
   "metadata": {},
   "outputs": [],
   "source": [
    "X_score_df['Cluster'] = y_km"
   ]
  },
  {
   "cell_type": "code",
   "execution_count": 92,
   "metadata": {},
   "outputs": [],
   "source": [
    "X_cluster_df = X_score_df"
   ]
  },
  {
   "cell_type": "code",
   "execution_count": 93,
   "metadata": {},
   "outputs": [
    {
     "data": {
      "text/html": [
       "<div>\n",
       "<style scoped>\n",
       "    .dataframe tbody tr th:only-of-type {\n",
       "        vertical-align: middle;\n",
       "    }\n",
       "\n",
       "    .dataframe tbody tr th {\n",
       "        vertical-align: top;\n",
       "    }\n",
       "\n",
       "    .dataframe thead th {\n",
       "        text-align: right;\n",
       "    }\n",
       "</style>\n",
       "<table border=\"1\" class=\"dataframe\">\n",
       "  <thead>\n",
       "    <tr style=\"text-align: right;\">\n",
       "      <th></th>\n",
       "      <th>0</th>\n",
       "      <th>1</th>\n",
       "      <th>2</th>\n",
       "      <th>3</th>\n",
       "      <th>4</th>\n",
       "      <th>5</th>\n",
       "      <th>6</th>\n",
       "      <th>7</th>\n",
       "      <th>Cluster</th>\n",
       "    </tr>\n",
       "  </thead>\n",
       "  <tbody>\n",
       "    <tr>\n",
       "      <th>0</th>\n",
       "      <td>-1.659269</td>\n",
       "      <td>0.137912</td>\n",
       "      <td>-0.503717</td>\n",
       "      <td>-1.191325</td>\n",
       "      <td>0.441221</td>\n",
       "      <td>1.695298</td>\n",
       "      <td>-0.659309</td>\n",
       "      <td>-1.075218</td>\n",
       "      <td>1</td>\n",
       "    </tr>\n",
       "    <tr>\n",
       "      <th>1</th>\n",
       "      <td>1.615011</td>\n",
       "      <td>1.288685</td>\n",
       "      <td>0.457449</td>\n",
       "      <td>-1.125403</td>\n",
       "      <td>-0.691048</td>\n",
       "      <td>0.679121</td>\n",
       "      <td>0.294277</td>\n",
       "      <td>-1.161827</td>\n",
       "      <td>1</td>\n",
       "    </tr>\n",
       "    <tr>\n",
       "      <th>2</th>\n",
       "      <td>-1.071765</td>\n",
       "      <td>0.360776</td>\n",
       "      <td>0.429568</td>\n",
       "      <td>0.000258</td>\n",
       "      <td>-0.230236</td>\n",
       "      <td>0.647133</td>\n",
       "      <td>-0.351384</td>\n",
       "      <td>0.084188</td>\n",
       "      <td>4</td>\n",
       "    </tr>\n",
       "    <tr>\n",
       "      <th>3</th>\n",
       "      <td>-0.585354</td>\n",
       "      <td>1.721321</td>\n",
       "      <td>0.559554</td>\n",
       "      <td>0.524083</td>\n",
       "      <td>0.423090</td>\n",
       "      <td>-2.655619</td>\n",
       "      <td>0.979959</td>\n",
       "      <td>-1.428075</td>\n",
       "      <td>4</td>\n",
       "    </tr>\n",
       "    <tr>\n",
       "      <th>4</th>\n",
       "      <td>-0.138216</td>\n",
       "      <td>0.362481</td>\n",
       "      <td>1.644938</td>\n",
       "      <td>-0.405064</td>\n",
       "      <td>0.077312</td>\n",
       "      <td>-0.768841</td>\n",
       "      <td>0.736434</td>\n",
       "      <td>0.365725</td>\n",
       "      <td>1</td>\n",
       "    </tr>\n",
       "    <tr>\n",
       "      <th>...</th>\n",
       "      <td>...</td>\n",
       "      <td>...</td>\n",
       "      <td>...</td>\n",
       "      <td>...</td>\n",
       "      <td>...</td>\n",
       "      <td>...</td>\n",
       "      <td>...</td>\n",
       "      <td>...</td>\n",
       "      <td>...</td>\n",
       "    </tr>\n",
       "    <tr>\n",
       "      <th>4271</th>\n",
       "      <td>-0.652277</td>\n",
       "      <td>0.018154</td>\n",
       "      <td>-0.932543</td>\n",
       "      <td>-2.547121</td>\n",
       "      <td>-1.212662</td>\n",
       "      <td>1.254672</td>\n",
       "      <td>0.643867</td>\n",
       "      <td>-0.834654</td>\n",
       "      <td>4</td>\n",
       "    </tr>\n",
       "    <tr>\n",
       "      <th>4272</th>\n",
       "      <td>-0.189907</td>\n",
       "      <td>-0.429355</td>\n",
       "      <td>0.150455</td>\n",
       "      <td>-2.154215</td>\n",
       "      <td>0.871342</td>\n",
       "      <td>0.013126</td>\n",
       "      <td>-1.330322</td>\n",
       "      <td>-0.822954</td>\n",
       "      <td>1</td>\n",
       "    </tr>\n",
       "    <tr>\n",
       "      <th>4273</th>\n",
       "      <td>0.302485</td>\n",
       "      <td>0.462996</td>\n",
       "      <td>-0.727287</td>\n",
       "      <td>0.161395</td>\n",
       "      <td>0.998660</td>\n",
       "      <td>-1.961543</td>\n",
       "      <td>-1.233265</td>\n",
       "      <td>-0.281278</td>\n",
       "      <td>2</td>\n",
       "    </tr>\n",
       "    <tr>\n",
       "      <th>4274</th>\n",
       "      <td>0.375454</td>\n",
       "      <td>-0.728032</td>\n",
       "      <td>-1.044260</td>\n",
       "      <td>1.084774</td>\n",
       "      <td>0.328865</td>\n",
       "      <td>0.220368</td>\n",
       "      <td>-0.504772</td>\n",
       "      <td>-2.294968</td>\n",
       "      <td>0</td>\n",
       "    </tr>\n",
       "    <tr>\n",
       "      <th>4275</th>\n",
       "      <td>-0.722547</td>\n",
       "      <td>1.664428</td>\n",
       "      <td>0.738958</td>\n",
       "      <td>0.502147</td>\n",
       "      <td>1.026120</td>\n",
       "      <td>-0.054398</td>\n",
       "      <td>0.277712</td>\n",
       "      <td>1.165959</td>\n",
       "      <td>4</td>\n",
       "    </tr>\n",
       "  </tbody>\n",
       "</table>\n",
       "<p>4276 rows × 9 columns</p>\n",
       "</div>"
      ],
      "text/plain": [
       "             0         1         2         3         4         5         6  \\\n",
       "0    -1.659269  0.137912 -0.503717 -1.191325  0.441221  1.695298 -0.659309   \n",
       "1     1.615011  1.288685  0.457449 -1.125403 -0.691048  0.679121  0.294277   \n",
       "2    -1.071765  0.360776  0.429568  0.000258 -0.230236  0.647133 -0.351384   \n",
       "3    -0.585354  1.721321  0.559554  0.524083  0.423090 -2.655619  0.979959   \n",
       "4    -0.138216  0.362481  1.644938 -0.405064  0.077312 -0.768841  0.736434   \n",
       "...        ...       ...       ...       ...       ...       ...       ...   \n",
       "4271 -0.652277  0.018154 -0.932543 -2.547121 -1.212662  1.254672  0.643867   \n",
       "4272 -0.189907 -0.429355  0.150455 -2.154215  0.871342  0.013126 -1.330322   \n",
       "4273  0.302485  0.462996 -0.727287  0.161395  0.998660 -1.961543 -1.233265   \n",
       "4274  0.375454 -0.728032 -1.044260  1.084774  0.328865  0.220368 -0.504772   \n",
       "4275 -0.722547  1.664428  0.738958  0.502147  1.026120 -0.054398  0.277712   \n",
       "\n",
       "             7  Cluster  \n",
       "0    -1.075218        1  \n",
       "1    -1.161827        1  \n",
       "2     0.084188        4  \n",
       "3    -1.428075        4  \n",
       "4     0.365725        1  \n",
       "...        ...      ...  \n",
       "4271 -0.834654        4  \n",
       "4272 -0.822954        1  \n",
       "4273 -0.281278        2  \n",
       "4274 -2.294968        0  \n",
       "4275  1.165959        4  \n",
       "\n",
       "[4276 rows x 9 columns]"
      ]
     },
     "execution_count": 93,
     "metadata": {},
     "output_type": "execute_result"
    }
   ],
   "source": [
    "X_cluster_df"
   ]
  },
  {
   "cell_type": "markdown",
   "metadata": {},
   "source": [
    "### Creating four dataframes having different cluster labels"
   ]
  },
  {
   "cell_type": "code",
   "execution_count": 94,
   "metadata": {},
   "outputs": [],
   "source": [
    "X_cluster_1 = X_cluster_df.loc[X_cluster_df['Cluster'] == 1]"
   ]
  },
  {
   "cell_type": "code",
   "execution_count": 95,
   "metadata": {},
   "outputs": [],
   "source": [
    "X_cluster_0 = X_cluster_df.loc[X_cluster_df['Cluster'] == 0]"
   ]
  },
  {
   "cell_type": "code",
   "execution_count": 96,
   "metadata": {},
   "outputs": [],
   "source": [
    "X_cluster_2 = X_cluster_df.loc[X_cluster_df['Cluster'] == 2]"
   ]
  },
  {
   "cell_type": "code",
   "execution_count": 97,
   "metadata": {},
   "outputs": [],
   "source": [
    "X_cluster_3 = X_cluster_df.loc[X_cluster_df['Cluster'] == 3]"
   ]
  },
  {
   "cell_type": "code",
   "execution_count": 98,
   "metadata": {},
   "outputs": [],
   "source": [
    "X_cluster_4 = X_cluster_df.loc[X_cluster_df['Cluster'] == 4]"
   ]
  },
  {
   "cell_type": "code",
   "execution_count": 99,
   "metadata": {},
   "outputs": [],
   "source": [
    "X_cluster_5 = X_cluster_df.loc[X_cluster_df['Cluster'] == 5]"
   ]
  },
  {
   "cell_type": "code",
   "execution_count": 101,
   "metadata": {},
   "outputs": [
    {
     "data": {
      "text/plain": [
       "(117, 9)"
      ]
     },
     "execution_count": 101,
     "metadata": {},
     "output_type": "execute_result"
    }
   ],
   "source": [
    "X_cluster_5.shape"
   ]
  },
  {
   "cell_type": "code",
   "execution_count": 102,
   "metadata": {},
   "outputs": [
    {
     "data": {
      "text/html": [
       "<div>\n",
       "<style scoped>\n",
       "    .dataframe tbody tr th:only-of-type {\n",
       "        vertical-align: middle;\n",
       "    }\n",
       "\n",
       "    .dataframe tbody tr th {\n",
       "        vertical-align: top;\n",
       "    }\n",
       "\n",
       "    .dataframe thead th {\n",
       "        text-align: right;\n",
       "    }\n",
       "</style>\n",
       "<table border=\"1\" class=\"dataframe\">\n",
       "  <thead>\n",
       "    <tr style=\"text-align: right;\">\n",
       "      <th></th>\n",
       "      <th>0</th>\n",
       "      <th>1</th>\n",
       "      <th>2</th>\n",
       "      <th>3</th>\n",
       "      <th>4</th>\n",
       "      <th>5</th>\n",
       "      <th>6</th>\n",
       "      <th>7</th>\n",
       "      <th>Cluster</th>\n",
       "    </tr>\n",
       "  </thead>\n",
       "  <tbody>\n",
       "    <tr>\n",
       "      <th>0</th>\n",
       "      <td>-1.659269</td>\n",
       "      <td>0.137912</td>\n",
       "      <td>-0.503717</td>\n",
       "      <td>-1.191325</td>\n",
       "      <td>0.441221</td>\n",
       "      <td>1.695298</td>\n",
       "      <td>-0.659309</td>\n",
       "      <td>-1.075218</td>\n",
       "      <td>1</td>\n",
       "    </tr>\n",
       "    <tr>\n",
       "      <th>1</th>\n",
       "      <td>1.615011</td>\n",
       "      <td>1.288685</td>\n",
       "      <td>0.457449</td>\n",
       "      <td>-1.125403</td>\n",
       "      <td>-0.691048</td>\n",
       "      <td>0.679121</td>\n",
       "      <td>0.294277</td>\n",
       "      <td>-1.161827</td>\n",
       "      <td>1</td>\n",
       "    </tr>\n",
       "    <tr>\n",
       "      <th>4</th>\n",
       "      <td>-0.138216</td>\n",
       "      <td>0.362481</td>\n",
       "      <td>1.644938</td>\n",
       "      <td>-0.405064</td>\n",
       "      <td>0.077312</td>\n",
       "      <td>-0.768841</td>\n",
       "      <td>0.736434</td>\n",
       "      <td>0.365725</td>\n",
       "      <td>1</td>\n",
       "    </tr>\n",
       "    <tr>\n",
       "      <th>7</th>\n",
       "      <td>2.057894</td>\n",
       "      <td>2.689192</td>\n",
       "      <td>-1.196074</td>\n",
       "      <td>1.290431</td>\n",
       "      <td>-0.271284</td>\n",
       "      <td>-1.456463</td>\n",
       "      <td>0.322068</td>\n",
       "      <td>-1.472571</td>\n",
       "      <td>1</td>\n",
       "    </tr>\n",
       "    <tr>\n",
       "      <th>12</th>\n",
       "      <td>0.529609</td>\n",
       "      <td>1.066582</td>\n",
       "      <td>2.601218</td>\n",
       "      <td>-2.423717</td>\n",
       "      <td>0.270539</td>\n",
       "      <td>0.492897</td>\n",
       "      <td>-0.106743</td>\n",
       "      <td>-1.225152</td>\n",
       "      <td>1</td>\n",
       "    </tr>\n",
       "  </tbody>\n",
       "</table>\n",
       "</div>"
      ],
      "text/plain": [
       "           0         1         2         3         4         5         6  \\\n",
       "0  -1.659269  0.137912 -0.503717 -1.191325  0.441221  1.695298 -0.659309   \n",
       "1   1.615011  1.288685  0.457449 -1.125403 -0.691048  0.679121  0.294277   \n",
       "4  -0.138216  0.362481  1.644938 -0.405064  0.077312 -0.768841  0.736434   \n",
       "7   2.057894  2.689192 -1.196074  1.290431 -0.271284 -1.456463  0.322068   \n",
       "12  0.529609  1.066582  2.601218 -2.423717  0.270539  0.492897 -0.106743   \n",
       "\n",
       "           7  Cluster  \n",
       "0  -1.075218        1  \n",
       "1  -1.161827        1  \n",
       "4   0.365725        1  \n",
       "7  -1.472571        1  \n",
       "12 -1.225152        1  "
      ]
     },
     "execution_count": 102,
     "metadata": {},
     "output_type": "execute_result"
    }
   ],
   "source": [
    "X_cluster_1.head()"
   ]
  },
  {
   "cell_type": "markdown",
   "metadata": {},
   "source": [
    "## Creating new X and Y dataset for local PLSR"
   ]
  },
  {
   "cell_type": "markdown",
   "metadata": {},
   "source": [
    "## PLSR 0"
   ]
  },
  {
   "cell_type": "code",
   "execution_count": 103,
   "metadata": {},
   "outputs": [],
   "source": [
    "X_cluster_0 = pd.DataFrame(X_cluster_0)\n",
    "Y_data= pd.DataFrame(Y_data)\n",
    "X_data = pd.DataFrame(X_data)"
   ]
  },
  {
   "cell_type": "code",
   "execution_count": 104,
   "metadata": {},
   "outputs": [],
   "source": [
    "Y_data_0= Y_data[Y_data.index.isin(X_cluster_0.index)]\n",
    "X_data_0= X_data[X_data.index.isin(X_cluster_0.index)]"
   ]
  },
  {
   "cell_type": "code",
   "execution_count": 105,
   "metadata": {},
   "outputs": [
    {
     "data": {
      "text/html": [
       "<div>\n",
       "<style scoped>\n",
       "    .dataframe tbody tr th:only-of-type {\n",
       "        vertical-align: middle;\n",
       "    }\n",
       "\n",
       "    .dataframe tbody tr th {\n",
       "        vertical-align: top;\n",
       "    }\n",
       "\n",
       "    .dataframe thead th {\n",
       "        text-align: right;\n",
       "    }\n",
       "</style>\n",
       "<table border=\"1\" class=\"dataframe\">\n",
       "  <thead>\n",
       "    <tr style=\"text-align: right;\">\n",
       "      <th></th>\n",
       "      <th>0</th>\n",
       "      <th>1</th>\n",
       "      <th>2</th>\n",
       "      <th>3</th>\n",
       "      <th>4</th>\n",
       "      <th>5</th>\n",
       "      <th>6</th>\n",
       "      <th>7</th>\n",
       "      <th>8</th>\n",
       "      <th>9</th>\n",
       "      <th>...</th>\n",
       "      <th>66</th>\n",
       "      <th>67</th>\n",
       "      <th>68</th>\n",
       "      <th>69</th>\n",
       "      <th>70</th>\n",
       "      <th>71</th>\n",
       "      <th>72</th>\n",
       "      <th>73</th>\n",
       "      <th>74</th>\n",
       "      <th>75</th>\n",
       "    </tr>\n",
       "  </thead>\n",
       "  <tbody>\n",
       "    <tr>\n",
       "      <th>15</th>\n",
       "      <td>-0.822187</td>\n",
       "      <td>-0.970038</td>\n",
       "      <td>-1.260854</td>\n",
       "      <td>-0.338483</td>\n",
       "      <td>-1.107790</td>\n",
       "      <td>-1.426974</td>\n",
       "      <td>0.334218</td>\n",
       "      <td>1.543145</td>\n",
       "      <td>1.103563</td>\n",
       "      <td>-1.013029</td>\n",
       "      <td>...</td>\n",
       "      <td>-1.512368</td>\n",
       "      <td>-1.246168</td>\n",
       "      <td>-0.317279</td>\n",
       "      <td>-0.242410</td>\n",
       "      <td>-0.940664</td>\n",
       "      <td>0.429490</td>\n",
       "      <td>0.632100</td>\n",
       "      <td>-0.625121</td>\n",
       "      <td>1.699065</td>\n",
       "      <td>-0.069487</td>\n",
       "    </tr>\n",
       "    <tr>\n",
       "      <th>16</th>\n",
       "      <td>-1.266177</td>\n",
       "      <td>-0.510560</td>\n",
       "      <td>-1.422105</td>\n",
       "      <td>1.665573</td>\n",
       "      <td>-0.242255</td>\n",
       "      <td>0.775754</td>\n",
       "      <td>-0.036350</td>\n",
       "      <td>-1.054651</td>\n",
       "      <td>-1.104698</td>\n",
       "      <td>1.445256</td>\n",
       "      <td>...</td>\n",
       "      <td>1.695150</td>\n",
       "      <td>1.645403</td>\n",
       "      <td>0.448512</td>\n",
       "      <td>-1.679717</td>\n",
       "      <td>-1.532781</td>\n",
       "      <td>-1.197771</td>\n",
       "      <td>1.006283</td>\n",
       "      <td>0.950091</td>\n",
       "      <td>1.052381</td>\n",
       "      <td>0.543406</td>\n",
       "    </tr>\n",
       "    <tr>\n",
       "      <th>18</th>\n",
       "      <td>0.422530</td>\n",
       "      <td>0.799792</td>\n",
       "      <td>-0.456750</td>\n",
       "      <td>1.187492</td>\n",
       "      <td>-1.531747</td>\n",
       "      <td>1.068254</td>\n",
       "      <td>-1.114982</td>\n",
       "      <td>-0.628467</td>\n",
       "      <td>-0.212765</td>\n",
       "      <td>-1.429021</td>\n",
       "      <td>...</td>\n",
       "      <td>-0.813753</td>\n",
       "      <td>-0.008088</td>\n",
       "      <td>-1.382215</td>\n",
       "      <td>-0.831209</td>\n",
       "      <td>-0.047356</td>\n",
       "      <td>-0.285084</td>\n",
       "      <td>0.705970</td>\n",
       "      <td>-0.559995</td>\n",
       "      <td>-1.284855</td>\n",
       "      <td>0.921184</td>\n",
       "    </tr>\n",
       "    <tr>\n",
       "      <th>21</th>\n",
       "      <td>-0.082655</td>\n",
       "      <td>-0.721002</td>\n",
       "      <td>-0.497186</td>\n",
       "      <td>-1.376300</td>\n",
       "      <td>0.597898</td>\n",
       "      <td>1.623806</td>\n",
       "      <td>-0.357302</td>\n",
       "      <td>1.518999</td>\n",
       "      <td>0.029405</td>\n",
       "      <td>-1.203896</td>\n",
       "      <td>...</td>\n",
       "      <td>-1.579760</td>\n",
       "      <td>-1.385004</td>\n",
       "      <td>-0.045132</td>\n",
       "      <td>-0.426204</td>\n",
       "      <td>1.096815</td>\n",
       "      <td>0.666716</td>\n",
       "      <td>-1.107921</td>\n",
       "      <td>-0.041434</td>\n",
       "      <td>0.400322</td>\n",
       "      <td>-1.544878</td>\n",
       "    </tr>\n",
       "    <tr>\n",
       "      <th>23</th>\n",
       "      <td>-0.963768</td>\n",
       "      <td>1.317342</td>\n",
       "      <td>0.781567</td>\n",
       "      <td>-0.218347</td>\n",
       "      <td>-0.317522</td>\n",
       "      <td>0.570319</td>\n",
       "      <td>0.628604</td>\n",
       "      <td>-1.524918</td>\n",
       "      <td>-0.576919</td>\n",
       "      <td>-1.687838</td>\n",
       "      <td>...</td>\n",
       "      <td>-0.447991</td>\n",
       "      <td>-0.710367</td>\n",
       "      <td>-0.253169</td>\n",
       "      <td>1.075571</td>\n",
       "      <td>-0.453630</td>\n",
       "      <td>0.417039</td>\n",
       "      <td>1.220406</td>\n",
       "      <td>-0.448044</td>\n",
       "      <td>1.574924</td>\n",
       "      <td>-0.338927</td>\n",
       "    </tr>\n",
       "    <tr>\n",
       "      <th>...</th>\n",
       "      <td>...</td>\n",
       "      <td>...</td>\n",
       "      <td>...</td>\n",
       "      <td>...</td>\n",
       "      <td>...</td>\n",
       "      <td>...</td>\n",
       "      <td>...</td>\n",
       "      <td>...</td>\n",
       "      <td>...</td>\n",
       "      <td>...</td>\n",
       "      <td>...</td>\n",
       "      <td>...</td>\n",
       "      <td>...</td>\n",
       "      <td>...</td>\n",
       "      <td>...</td>\n",
       "      <td>...</td>\n",
       "      <td>...</td>\n",
       "      <td>...</td>\n",
       "      <td>...</td>\n",
       "      <td>...</td>\n",
       "      <td>...</td>\n",
       "    </tr>\n",
       "    <tr>\n",
       "      <th>4255</th>\n",
       "      <td>0.211747</td>\n",
       "      <td>1.091696</td>\n",
       "      <td>0.625692</td>\n",
       "      <td>-0.160382</td>\n",
       "      <td>-0.297024</td>\n",
       "      <td>0.815952</td>\n",
       "      <td>-0.445602</td>\n",
       "      <td>0.727223</td>\n",
       "      <td>-0.719059</td>\n",
       "      <td>1.020863</td>\n",
       "      <td>...</td>\n",
       "      <td>-0.695716</td>\n",
       "      <td>-0.878111</td>\n",
       "      <td>-0.139350</td>\n",
       "      <td>-1.473105</td>\n",
       "      <td>1.614395</td>\n",
       "      <td>0.940754</td>\n",
       "      <td>-0.279484</td>\n",
       "      <td>1.128559</td>\n",
       "      <td>-0.159279</td>\n",
       "      <td>-0.797038</td>\n",
       "    </tr>\n",
       "    <tr>\n",
       "      <th>4262</th>\n",
       "      <td>0.867046</td>\n",
       "      <td>0.720688</td>\n",
       "      <td>0.232891</td>\n",
       "      <td>-0.633052</td>\n",
       "      <td>0.890320</td>\n",
       "      <td>-1.075881</td>\n",
       "      <td>0.616365</td>\n",
       "      <td>1.567508</td>\n",
       "      <td>0.777496</td>\n",
       "      <td>-1.435757</td>\n",
       "      <td>...</td>\n",
       "      <td>0.435472</td>\n",
       "      <td>-1.071151</td>\n",
       "      <td>-0.978715</td>\n",
       "      <td>0.928112</td>\n",
       "      <td>-0.566600</td>\n",
       "      <td>0.734868</td>\n",
       "      <td>1.040939</td>\n",
       "      <td>0.173228</td>\n",
       "      <td>0.512104</td>\n",
       "      <td>1.602052</td>\n",
       "    </tr>\n",
       "    <tr>\n",
       "      <th>4263</th>\n",
       "      <td>-0.502953</td>\n",
       "      <td>1.662752</td>\n",
       "      <td>-1.214423</td>\n",
       "      <td>0.787117</td>\n",
       "      <td>-0.290609</td>\n",
       "      <td>0.874118</td>\n",
       "      <td>-1.566384</td>\n",
       "      <td>-1.080496</td>\n",
       "      <td>-0.643771</td>\n",
       "      <td>-1.480182</td>\n",
       "      <td>...</td>\n",
       "      <td>0.125894</td>\n",
       "      <td>-0.874997</td>\n",
       "      <td>0.151001</td>\n",
       "      <td>-1.550295</td>\n",
       "      <td>-0.690276</td>\n",
       "      <td>-1.305325</td>\n",
       "      <td>-1.614923</td>\n",
       "      <td>-0.079595</td>\n",
       "      <td>0.193165</td>\n",
       "      <td>-1.354286</td>\n",
       "    </tr>\n",
       "    <tr>\n",
       "      <th>4266</th>\n",
       "      <td>0.814557</td>\n",
       "      <td>1.686800</td>\n",
       "      <td>-0.781472</td>\n",
       "      <td>0.332157</td>\n",
       "      <td>1.001626</td>\n",
       "      <td>-0.507735</td>\n",
       "      <td>-1.314564</td>\n",
       "      <td>-1.068934</td>\n",
       "      <td>-1.071797</td>\n",
       "      <td>0.058031</td>\n",
       "      <td>...</td>\n",
       "      <td>-0.648907</td>\n",
       "      <td>0.234508</td>\n",
       "      <td>-0.154851</td>\n",
       "      <td>-1.237231</td>\n",
       "      <td>0.827114</td>\n",
       "      <td>-1.464199</td>\n",
       "      <td>0.231837</td>\n",
       "      <td>0.053900</td>\n",
       "      <td>0.742968</td>\n",
       "      <td>-1.132938</td>\n",
       "    </tr>\n",
       "    <tr>\n",
       "      <th>4274</th>\n",
       "      <td>0.358513</td>\n",
       "      <td>1.181618</td>\n",
       "      <td>-1.489590</td>\n",
       "      <td>-0.572026</td>\n",
       "      <td>0.748060</td>\n",
       "      <td>-0.398980</td>\n",
       "      <td>-0.295117</td>\n",
       "      <td>1.203583</td>\n",
       "      <td>-0.198485</td>\n",
       "      <td>0.116024</td>\n",
       "      <td>...</td>\n",
       "      <td>-1.132731</td>\n",
       "      <td>0.472264</td>\n",
       "      <td>-1.034424</td>\n",
       "      <td>-1.162389</td>\n",
       "      <td>-0.066645</td>\n",
       "      <td>-1.066003</td>\n",
       "      <td>1.118598</td>\n",
       "      <td>1.124347</td>\n",
       "      <td>-1.534201</td>\n",
       "      <td>-1.109675</td>\n",
       "    </tr>\n",
       "  </tbody>\n",
       "</table>\n",
       "<p>999 rows × 76 columns</p>\n",
       "</div>"
      ],
      "text/plain": [
       "            0         1         2         3         4         5         6   \\\n",
       "15   -0.822187 -0.970038 -1.260854 -0.338483 -1.107790 -1.426974  0.334218   \n",
       "16   -1.266177 -0.510560 -1.422105  1.665573 -0.242255  0.775754 -0.036350   \n",
       "18    0.422530  0.799792 -0.456750  1.187492 -1.531747  1.068254 -1.114982   \n",
       "21   -0.082655 -0.721002 -0.497186 -1.376300  0.597898  1.623806 -0.357302   \n",
       "23   -0.963768  1.317342  0.781567 -0.218347 -0.317522  0.570319  0.628604   \n",
       "...        ...       ...       ...       ...       ...       ...       ...   \n",
       "4255  0.211747  1.091696  0.625692 -0.160382 -0.297024  0.815952 -0.445602   \n",
       "4262  0.867046  0.720688  0.232891 -0.633052  0.890320 -1.075881  0.616365   \n",
       "4263 -0.502953  1.662752 -1.214423  0.787117 -0.290609  0.874118 -1.566384   \n",
       "4266  0.814557  1.686800 -0.781472  0.332157  1.001626 -0.507735 -1.314564   \n",
       "4274  0.358513  1.181618 -1.489590 -0.572026  0.748060 -0.398980 -0.295117   \n",
       "\n",
       "            7         8         9   ...        66        67        68  \\\n",
       "15    1.543145  1.103563 -1.013029  ... -1.512368 -1.246168 -0.317279   \n",
       "16   -1.054651 -1.104698  1.445256  ...  1.695150  1.645403  0.448512   \n",
       "18   -0.628467 -0.212765 -1.429021  ... -0.813753 -0.008088 -1.382215   \n",
       "21    1.518999  0.029405 -1.203896  ... -1.579760 -1.385004 -0.045132   \n",
       "23   -1.524918 -0.576919 -1.687838  ... -0.447991 -0.710367 -0.253169   \n",
       "...        ...       ...       ...  ...       ...       ...       ...   \n",
       "4255  0.727223 -0.719059  1.020863  ... -0.695716 -0.878111 -0.139350   \n",
       "4262  1.567508  0.777496 -1.435757  ...  0.435472 -1.071151 -0.978715   \n",
       "4263 -1.080496 -0.643771 -1.480182  ...  0.125894 -0.874997  0.151001   \n",
       "4266 -1.068934 -1.071797  0.058031  ... -0.648907  0.234508 -0.154851   \n",
       "4274  1.203583 -0.198485  0.116024  ... -1.132731  0.472264 -1.034424   \n",
       "\n",
       "            69        70        71        72        73        74        75  \n",
       "15   -0.242410 -0.940664  0.429490  0.632100 -0.625121  1.699065 -0.069487  \n",
       "16   -1.679717 -1.532781 -1.197771  1.006283  0.950091  1.052381  0.543406  \n",
       "18   -0.831209 -0.047356 -0.285084  0.705970 -0.559995 -1.284855  0.921184  \n",
       "21   -0.426204  1.096815  0.666716 -1.107921 -0.041434  0.400322 -1.544878  \n",
       "23    1.075571 -0.453630  0.417039  1.220406 -0.448044  1.574924 -0.338927  \n",
       "...        ...       ...       ...       ...       ...       ...       ...  \n",
       "4255 -1.473105  1.614395  0.940754 -0.279484  1.128559 -0.159279 -0.797038  \n",
       "4262  0.928112 -0.566600  0.734868  1.040939  0.173228  0.512104  1.602052  \n",
       "4263 -1.550295 -0.690276 -1.305325 -1.614923 -0.079595  0.193165 -1.354286  \n",
       "4266 -1.237231  0.827114 -1.464199  0.231837  0.053900  0.742968 -1.132938  \n",
       "4274 -1.162389 -0.066645 -1.066003  1.118598  1.124347 -1.534201 -1.109675  \n",
       "\n",
       "[999 rows x 76 columns]"
      ]
     },
     "execution_count": 105,
     "metadata": {},
     "output_type": "execute_result"
    }
   ],
   "source": [
    "X_data_0"
   ]
  },
  {
   "cell_type": "code",
   "execution_count": 106,
   "metadata": {},
   "outputs": [
    {
     "data": {
      "text/html": [
       "<div>\n",
       "<style scoped>\n",
       "    .dataframe tbody tr th:only-of-type {\n",
       "        vertical-align: middle;\n",
       "    }\n",
       "\n",
       "    .dataframe tbody tr th {\n",
       "        vertical-align: top;\n",
       "    }\n",
       "\n",
       "    .dataframe thead th {\n",
       "        text-align: right;\n",
       "    }\n",
       "</style>\n",
       "<table border=\"1\" class=\"dataframe\">\n",
       "  <thead>\n",
       "    <tr style=\"text-align: right;\">\n",
       "      <th></th>\n",
       "      <th>0</th>\n",
       "      <th>1</th>\n",
       "      <th>2</th>\n",
       "    </tr>\n",
       "  </thead>\n",
       "  <tbody>\n",
       "    <tr>\n",
       "      <th>15</th>\n",
       "      <td>-0.923139</td>\n",
       "      <td>1.209039</td>\n",
       "      <td>-0.328857</td>\n",
       "    </tr>\n",
       "    <tr>\n",
       "      <th>16</th>\n",
       "      <td>-0.923139</td>\n",
       "      <td>-1.093817</td>\n",
       "      <td>-0.611610</td>\n",
       "    </tr>\n",
       "    <tr>\n",
       "      <th>18</th>\n",
       "      <td>0.364738</td>\n",
       "      <td>-1.666998</td>\n",
       "      <td>-0.470060</td>\n",
       "    </tr>\n",
       "    <tr>\n",
       "      <th>21</th>\n",
       "      <td>0.364738</td>\n",
       "      <td>-0.499788</td>\n",
       "      <td>0.144669</td>\n",
       "    </tr>\n",
       "    <tr>\n",
       "      <th>23</th>\n",
       "      <td>0.364738</td>\n",
       "      <td>0.577844</td>\n",
       "      <td>0.611808</td>\n",
       "    </tr>\n",
       "    <tr>\n",
       "      <th>...</th>\n",
       "      <td>...</td>\n",
       "      <td>...</td>\n",
       "      <td>...</td>\n",
       "    </tr>\n",
       "    <tr>\n",
       "      <th>4255</th>\n",
       "      <td>0.364738</td>\n",
       "      <td>-1.124997</td>\n",
       "      <td>-0.416009</td>\n",
       "    </tr>\n",
       "    <tr>\n",
       "      <th>4262</th>\n",
       "      <td>-0.923139</td>\n",
       "      <td>0.833979</td>\n",
       "      <td>2.151964</td>\n",
       "    </tr>\n",
       "    <tr>\n",
       "      <th>4263</th>\n",
       "      <td>1.652615</td>\n",
       "      <td>-0.971029</td>\n",
       "      <td>-0.461091</td>\n",
       "    </tr>\n",
       "    <tr>\n",
       "      <th>4266</th>\n",
       "      <td>1.652615</td>\n",
       "      <td>-1.736466</td>\n",
       "      <td>0.188114</td>\n",
       "    </tr>\n",
       "    <tr>\n",
       "      <th>4274</th>\n",
       "      <td>0.364738</td>\n",
       "      <td>0.665909</td>\n",
       "      <td>-0.182365</td>\n",
       "    </tr>\n",
       "  </tbody>\n",
       "</table>\n",
       "<p>999 rows × 3 columns</p>\n",
       "</div>"
      ],
      "text/plain": [
       "             0         1         2\n",
       "15   -0.923139  1.209039 -0.328857\n",
       "16   -0.923139 -1.093817 -0.611610\n",
       "18    0.364738 -1.666998 -0.470060\n",
       "21    0.364738 -0.499788  0.144669\n",
       "23    0.364738  0.577844  0.611808\n",
       "...        ...       ...       ...\n",
       "4255  0.364738 -1.124997 -0.416009\n",
       "4262 -0.923139  0.833979  2.151964\n",
       "4263  1.652615 -0.971029 -0.461091\n",
       "4266  1.652615 -1.736466  0.188114\n",
       "4274  0.364738  0.665909 -0.182365\n",
       "\n",
       "[999 rows x 3 columns]"
      ]
     },
     "execution_count": 106,
     "metadata": {},
     "output_type": "execute_result"
    }
   ],
   "source": [
    "Y_data_0"
   ]
  },
  {
   "cell_type": "markdown",
   "metadata": {},
   "source": [
    "## Following similar procedure for creating X and Y dataset for PLSR 1"
   ]
  },
  {
   "cell_type": "code",
   "execution_count": 107,
   "metadata": {},
   "outputs": [],
   "source": [
    "X_cluster_1 = pd.DataFrame(X_cluster_1)"
   ]
  },
  {
   "cell_type": "code",
   "execution_count": 108,
   "metadata": {},
   "outputs": [],
   "source": [
    "Y_data_1= Y_data[Y_data.index.isin(X_cluster_1.index)]\n",
    "X_data_1= X_data[X_data.index.isin(X_cluster_1.index)]"
   ]
  },
  {
   "cell_type": "markdown",
   "metadata": {},
   "source": [
    "## Following similar procedure for creating X and Y dataset for PLSR 2 ,3 and 4"
   ]
  },
  {
   "cell_type": "code",
   "execution_count": 109,
   "metadata": {},
   "outputs": [],
   "source": [
    "X_cluster_2 = pd.DataFrame(X_cluster_2)"
   ]
  },
  {
   "cell_type": "code",
   "execution_count": 110,
   "metadata": {},
   "outputs": [],
   "source": [
    "Y_data_2= Y_data[Y_data.index.isin(X_cluster_2.index)]\n",
    "X_data_2= X_data[X_data.index.isin(X_cluster_2.index)]"
   ]
  },
  {
   "cell_type": "code",
   "execution_count": null,
   "metadata": {},
   "outputs": [],
   "source": []
  },
  {
   "cell_type": "code",
   "execution_count": 111,
   "metadata": {},
   "outputs": [],
   "source": [
    "X_cluster_3 = pd.DataFrame(X_cluster_3)"
   ]
  },
  {
   "cell_type": "code",
   "execution_count": 112,
   "metadata": {},
   "outputs": [],
   "source": [
    "Y_data_3= Y_data[Y_data.index.isin(X_cluster_3.index)]\n",
    "X_data_3= X_data[X_data.index.isin(X_cluster_3.index)]"
   ]
  },
  {
   "cell_type": "code",
   "execution_count": null,
   "metadata": {},
   "outputs": [],
   "source": []
  },
  {
   "cell_type": "code",
   "execution_count": 113,
   "metadata": {},
   "outputs": [],
   "source": [
    "X_cluster_4 = pd.DataFrame(X_cluster_4)"
   ]
  },
  {
   "cell_type": "code",
   "execution_count": 114,
   "metadata": {},
   "outputs": [],
   "source": [
    "Y_data_4= Y_data[Y_data.index.isin(X_cluster_4.index)]\n",
    "X_data_4= X_data[X_data.index.isin(X_cluster_4.index)]"
   ]
  },
  {
   "cell_type": "code",
   "execution_count": null,
   "metadata": {},
   "outputs": [],
   "source": []
  },
  {
   "cell_type": "code",
   "execution_count": 115,
   "metadata": {},
   "outputs": [],
   "source": [
    "X_cluster_5 = pd.DataFrame(X_cluster_5)"
   ]
  },
  {
   "cell_type": "code",
   "execution_count": 116,
   "metadata": {},
   "outputs": [],
   "source": [
    "Y_data_5= Y_data[Y_data.index.isin(X_cluster_5.index)]\n",
    "X_data_5= X_data[X_data.index.isin(X_cluster_5.index)]"
   ]
  },
  {
   "cell_type": "markdown",
   "metadata": {},
   "source": [
    "### Training PLSR 0,1,2,3 ,4 and 5\n"
   ]
  },
  {
   "cell_type": "code",
   "execution_count": 117,
   "metadata": {},
   "outputs": [],
   "source": [
    "## Training the whole"
   ]
  },
  {
   "cell_type": "code",
   "execution_count": 118,
   "metadata": {},
   "outputs": [],
   "source": [
    "local_pls_0 = PLSRegression(n_components=8)\n",
    "\n",
    "# Fit\n",
    "local_pls_0.fit(X_data_0, Y_data_0)\n",
    "\n",
    "# Cross-validation\n",
    "y_cv = cross_val_predict(local_pls_0, X_data_0, Y_data_0, cv=10)\n",
    "\n",
    "# Calculate scores\n",
    "score = r2_score(Y_data_0, y_cv)\n",
    "mse = mean_squared_error(Y_data_0, y_cv)"
   ]
  },
  {
   "cell_type": "code",
   "execution_count": 119,
   "metadata": {},
   "outputs": [
    {
     "data": {
      "text/plain": [
       "0.8041426010609847"
      ]
     },
     "execution_count": 119,
     "metadata": {},
     "output_type": "execute_result"
    }
   ],
   "source": [
    "score"
   ]
  },
  {
   "cell_type": "code",
   "execution_count": 120,
   "metadata": {},
   "outputs": [
    {
     "data": {
      "text/plain": [
       "0.09607173310432178"
      ]
     },
     "execution_count": 120,
     "metadata": {},
     "output_type": "execute_result"
    }
   ],
   "source": [
    "mse"
   ]
  },
  {
   "cell_type": "markdown",
   "metadata": {},
   "source": [
    "## Training PLSR 1"
   ]
  },
  {
   "cell_type": "code",
   "execution_count": 121,
   "metadata": {},
   "outputs": [],
   "source": [
    "## Training whole"
   ]
  },
  {
   "cell_type": "code",
   "execution_count": 122,
   "metadata": {},
   "outputs": [],
   "source": [
    "local_pls_1 = PLSRegression(n_components=8)\n",
    "\n",
    "# Fit\n",
    "local_pls_1.fit(X_data_1, Y_data_1)\n",
    "\n",
    "# Cross-validation\n",
    "y_cv = cross_val_predict(local_pls_1, X_data_1, Y_data_1, cv=10)\n",
    "\n",
    "# Calculate scores\n",
    "score = r2_score(Y_data_1, y_cv)\n",
    "mse = mean_squared_error(Y_data_1, y_cv)"
   ]
  },
  {
   "cell_type": "code",
   "execution_count": 123,
   "metadata": {},
   "outputs": [
    {
     "data": {
      "text/plain": [
       "0.7118539653806394"
      ]
     },
     "execution_count": 123,
     "metadata": {},
     "output_type": "execute_result"
    }
   ],
   "source": [
    "score"
   ]
  },
  {
   "cell_type": "code",
   "execution_count": 124,
   "metadata": {},
   "outputs": [
    {
     "data": {
      "text/plain": [
       "0.44680933567238057"
      ]
     },
     "execution_count": 124,
     "metadata": {},
     "output_type": "execute_result"
    }
   ],
   "source": [
    "mse"
   ]
  },
  {
   "cell_type": "markdown",
   "metadata": {},
   "source": [
    "## Training PLSR 2"
   ]
  },
  {
   "cell_type": "code",
   "execution_count": 125,
   "metadata": {},
   "outputs": [],
   "source": [
    "local_pls_2 = PLSRegression(n_components=8)\n",
    "\n",
    "# Fit\n",
    "local_pls_2.fit(X_data_2, Y_data_2)\n",
    "\n",
    "# Cross-validation\n",
    "y_cv = cross_val_predict(local_pls_2, X_data_2, Y_data_2, cv=10)\n",
    "\n",
    "# Calculate scores\n",
    "score = r2_score(Y_data_2, y_cv)\n",
    "mse = mean_squared_error(Y_data_2, y_cv)"
   ]
  },
  {
   "cell_type": "code",
   "execution_count": 126,
   "metadata": {},
   "outputs": [
    {
     "data": {
      "text/plain": [
       "0.7529820352177374"
      ]
     },
     "execution_count": 126,
     "metadata": {},
     "output_type": "execute_result"
    }
   ],
   "source": [
    "score"
   ]
  },
  {
   "cell_type": "code",
   "execution_count": 127,
   "metadata": {},
   "outputs": [
    {
     "data": {
      "text/plain": [
       "0.08632966692645976"
      ]
     },
     "execution_count": 127,
     "metadata": {},
     "output_type": "execute_result"
    }
   ],
   "source": [
    "mse"
   ]
  },
  {
   "cell_type": "markdown",
   "metadata": {},
   "source": [
    "## Training PLSR 3"
   ]
  },
  {
   "cell_type": "code",
   "execution_count": 128,
   "metadata": {},
   "outputs": [],
   "source": [
    "local_pls_3 = PLSRegression(n_components=8)\n",
    "\n",
    "# Fit\n",
    "local_pls_3.fit(X_data_3, Y_data_3)\n",
    "\n",
    "# Cross-validation\n",
    "y_cv = cross_val_predict(local_pls_3, X_data_3, Y_data_3, cv=10)\n",
    "\n",
    "# Calculate scores\n",
    "score = r2_score(Y_data_3, y_cv)\n",
    "mse = mean_squared_error(Y_data_3, y_cv)"
   ]
  },
  {
   "cell_type": "code",
   "execution_count": 129,
   "metadata": {},
   "outputs": [
    {
     "data": {
      "text/plain": [
       "0.645278477015449"
      ]
     },
     "execution_count": 129,
     "metadata": {},
     "output_type": "execute_result"
    }
   ],
   "source": [
    "score"
   ]
  },
  {
   "cell_type": "code",
   "execution_count": 130,
   "metadata": {},
   "outputs": [
    {
     "data": {
      "text/plain": [
       "0.09403953319983838"
      ]
     },
     "execution_count": 130,
     "metadata": {},
     "output_type": "execute_result"
    }
   ],
   "source": [
    "mse"
   ]
  },
  {
   "cell_type": "markdown",
   "metadata": {},
   "source": [
    "### Training PLSR 4"
   ]
  },
  {
   "cell_type": "code",
   "execution_count": 131,
   "metadata": {},
   "outputs": [],
   "source": [
    "local_pls_4 = PLSRegression(n_components=8)\n",
    "\n",
    "# Fit\n",
    "local_pls_4.fit(X_data_4, Y_data_4)\n",
    "\n",
    "# Cross-validation\n",
    "y_cv = cross_val_predict(local_pls_4, X_data_4, Y_data_4, cv=10)\n",
    "\n",
    "# Calculate scores\n",
    "score = r2_score(Y_data_4, y_cv)\n",
    "mse = mean_squared_error(Y_data_4, y_cv)"
   ]
  },
  {
   "cell_type": "code",
   "execution_count": 132,
   "metadata": {},
   "outputs": [
    {
     "data": {
      "text/plain": [
       "0.7130791639060554"
      ]
     },
     "execution_count": 132,
     "metadata": {},
     "output_type": "execute_result"
    }
   ],
   "source": [
    "score"
   ]
  },
  {
   "cell_type": "code",
   "execution_count": 133,
   "metadata": {},
   "outputs": [
    {
     "data": {
      "text/plain": [
       "0.07541392552014614"
      ]
     },
     "execution_count": 133,
     "metadata": {},
     "output_type": "execute_result"
    }
   ],
   "source": [
    "mse"
   ]
  },
  {
   "cell_type": "markdown",
   "metadata": {},
   "source": [
    "##### Training PLSR 5"
   ]
  },
  {
   "cell_type": "code",
   "execution_count": 134,
   "metadata": {},
   "outputs": [
    {
     "data": {
      "text/plain": [
       "(117, 76)"
      ]
     },
     "execution_count": 134,
     "metadata": {},
     "output_type": "execute_result"
    }
   ],
   "source": [
    "X_data_5.shape"
   ]
  },
  {
   "cell_type": "code",
   "execution_count": 135,
   "metadata": {},
   "outputs": [],
   "source": [
    "local_pls_5 = PLSRegression(n_components=8)\n",
    "\n",
    "# Fit\n",
    "local_pls_5.fit(X_data_5, Y_data_5)\n",
    "\n",
    "# Cross-validation\n",
    "y_cv = cross_val_predict(local_pls_5, X_data_5, Y_data_5, cv=10)\n",
    "\n",
    "# Calculate scores\n",
    "score = r2_score(Y_data_5, y_cv)\n",
    "mse = mean_squared_error(Y_data_5, y_cv)"
   ]
  },
  {
   "cell_type": "code",
   "execution_count": 136,
   "metadata": {},
   "outputs": [
    {
     "data": {
      "text/plain": [
       "0.2757184252800606"
      ]
     },
     "execution_count": 136,
     "metadata": {},
     "output_type": "execute_result"
    }
   ],
   "source": [
    "score"
   ]
  },
  {
   "cell_type": "code",
   "execution_count": 137,
   "metadata": {},
   "outputs": [
    {
     "data": {
      "text/plain": [
       "0.8982370414912549"
      ]
     },
     "execution_count": 137,
     "metadata": {},
     "output_type": "execute_result"
    }
   ],
   "source": [
    "mse"
   ]
  },
  {
   "cell_type": "markdown",
   "metadata": {},
   "source": [
    "### HCPLSR Predictions"
   ]
  },
  {
   "cell_type": "code",
   "execution_count": 138,
   "metadata": {},
   "outputs": [],
   "source": [
    "## scaling the test data from global scaler"
   ]
  },
  {
   "cell_type": "code",
   "execution_count": 139,
   "metadata": {},
   "outputs": [],
   "source": [
    "X_test = Total_X_data[:1068]\n",
    "Y_test = Total_Y_data[:1068]"
   ]
  },
  {
   "cell_type": "code",
   "execution_count": 140,
   "metadata": {},
   "outputs": [],
   "source": [
    "Test_X_data = scaler_x.transform(X_test)"
   ]
  },
  {
   "cell_type": "code",
   "execution_count": 141,
   "metadata": {},
   "outputs": [],
   "source": [
    "## predicted y_data"
   ]
  },
  {
   "cell_type": "code",
   "execution_count": 142,
   "metadata": {},
   "outputs": [],
   "source": [
    "ypred_global = global_pls.predict(Test_X_data)"
   ]
  },
  {
   "cell_type": "markdown",
   "metadata": {},
   "source": [
    "## Classification Algorithm with X"
   ]
  },
  {
   "cell_type": "code",
   "execution_count": 143,
   "metadata": {},
   "outputs": [],
   "source": [
    "target = X_cluster_df.Cluster"
   ]
  },
  {
   "cell_type": "code",
   "execution_count": 144,
   "metadata": {},
   "outputs": [
    {
     "data": {
      "text/html": [
       "<div>\n",
       "<style scoped>\n",
       "    .dataframe tbody tr th:only-of-type {\n",
       "        vertical-align: middle;\n",
       "    }\n",
       "\n",
       "    .dataframe tbody tr th {\n",
       "        vertical-align: top;\n",
       "    }\n",
       "\n",
       "    .dataframe thead th {\n",
       "        text-align: right;\n",
       "    }\n",
       "</style>\n",
       "<table border=\"1\" class=\"dataframe\">\n",
       "  <thead>\n",
       "    <tr style=\"text-align: right;\">\n",
       "      <th></th>\n",
       "      <th>0</th>\n",
       "      <th>1</th>\n",
       "      <th>2</th>\n",
       "      <th>3</th>\n",
       "      <th>4</th>\n",
       "      <th>5</th>\n",
       "      <th>6</th>\n",
       "      <th>7</th>\n",
       "      <th>Cluster</th>\n",
       "    </tr>\n",
       "  </thead>\n",
       "  <tbody>\n",
       "    <tr>\n",
       "      <th>0</th>\n",
       "      <td>-1.659269</td>\n",
       "      <td>0.137912</td>\n",
       "      <td>-0.503717</td>\n",
       "      <td>-1.191325</td>\n",
       "      <td>0.441221</td>\n",
       "      <td>1.695298</td>\n",
       "      <td>-0.659309</td>\n",
       "      <td>-1.075218</td>\n",
       "      <td>1</td>\n",
       "    </tr>\n",
       "    <tr>\n",
       "      <th>1</th>\n",
       "      <td>1.615011</td>\n",
       "      <td>1.288685</td>\n",
       "      <td>0.457449</td>\n",
       "      <td>-1.125403</td>\n",
       "      <td>-0.691048</td>\n",
       "      <td>0.679121</td>\n",
       "      <td>0.294277</td>\n",
       "      <td>-1.161827</td>\n",
       "      <td>1</td>\n",
       "    </tr>\n",
       "    <tr>\n",
       "      <th>2</th>\n",
       "      <td>-1.071765</td>\n",
       "      <td>0.360776</td>\n",
       "      <td>0.429568</td>\n",
       "      <td>0.000258</td>\n",
       "      <td>-0.230236</td>\n",
       "      <td>0.647133</td>\n",
       "      <td>-0.351384</td>\n",
       "      <td>0.084188</td>\n",
       "      <td>4</td>\n",
       "    </tr>\n",
       "    <tr>\n",
       "      <th>3</th>\n",
       "      <td>-0.585354</td>\n",
       "      <td>1.721321</td>\n",
       "      <td>0.559554</td>\n",
       "      <td>0.524083</td>\n",
       "      <td>0.423090</td>\n",
       "      <td>-2.655619</td>\n",
       "      <td>0.979959</td>\n",
       "      <td>-1.428075</td>\n",
       "      <td>4</td>\n",
       "    </tr>\n",
       "    <tr>\n",
       "      <th>4</th>\n",
       "      <td>-0.138216</td>\n",
       "      <td>0.362481</td>\n",
       "      <td>1.644938</td>\n",
       "      <td>-0.405064</td>\n",
       "      <td>0.077312</td>\n",
       "      <td>-0.768841</td>\n",
       "      <td>0.736434</td>\n",
       "      <td>0.365725</td>\n",
       "      <td>1</td>\n",
       "    </tr>\n",
       "    <tr>\n",
       "      <th>...</th>\n",
       "      <td>...</td>\n",
       "      <td>...</td>\n",
       "      <td>...</td>\n",
       "      <td>...</td>\n",
       "      <td>...</td>\n",
       "      <td>...</td>\n",
       "      <td>...</td>\n",
       "      <td>...</td>\n",
       "      <td>...</td>\n",
       "    </tr>\n",
       "    <tr>\n",
       "      <th>4271</th>\n",
       "      <td>-0.652277</td>\n",
       "      <td>0.018154</td>\n",
       "      <td>-0.932543</td>\n",
       "      <td>-2.547121</td>\n",
       "      <td>-1.212662</td>\n",
       "      <td>1.254672</td>\n",
       "      <td>0.643867</td>\n",
       "      <td>-0.834654</td>\n",
       "      <td>4</td>\n",
       "    </tr>\n",
       "    <tr>\n",
       "      <th>4272</th>\n",
       "      <td>-0.189907</td>\n",
       "      <td>-0.429355</td>\n",
       "      <td>0.150455</td>\n",
       "      <td>-2.154215</td>\n",
       "      <td>0.871342</td>\n",
       "      <td>0.013126</td>\n",
       "      <td>-1.330322</td>\n",
       "      <td>-0.822954</td>\n",
       "      <td>1</td>\n",
       "    </tr>\n",
       "    <tr>\n",
       "      <th>4273</th>\n",
       "      <td>0.302485</td>\n",
       "      <td>0.462996</td>\n",
       "      <td>-0.727287</td>\n",
       "      <td>0.161395</td>\n",
       "      <td>0.998660</td>\n",
       "      <td>-1.961543</td>\n",
       "      <td>-1.233265</td>\n",
       "      <td>-0.281278</td>\n",
       "      <td>2</td>\n",
       "    </tr>\n",
       "    <tr>\n",
       "      <th>4274</th>\n",
       "      <td>0.375454</td>\n",
       "      <td>-0.728032</td>\n",
       "      <td>-1.044260</td>\n",
       "      <td>1.084774</td>\n",
       "      <td>0.328865</td>\n",
       "      <td>0.220368</td>\n",
       "      <td>-0.504772</td>\n",
       "      <td>-2.294968</td>\n",
       "      <td>0</td>\n",
       "    </tr>\n",
       "    <tr>\n",
       "      <th>4275</th>\n",
       "      <td>-0.722547</td>\n",
       "      <td>1.664428</td>\n",
       "      <td>0.738958</td>\n",
       "      <td>0.502147</td>\n",
       "      <td>1.026120</td>\n",
       "      <td>-0.054398</td>\n",
       "      <td>0.277712</td>\n",
       "      <td>1.165959</td>\n",
       "      <td>4</td>\n",
       "    </tr>\n",
       "  </tbody>\n",
       "</table>\n",
       "<p>4276 rows × 9 columns</p>\n",
       "</div>"
      ],
      "text/plain": [
       "             0         1         2         3         4         5         6  \\\n",
       "0    -1.659269  0.137912 -0.503717 -1.191325  0.441221  1.695298 -0.659309   \n",
       "1     1.615011  1.288685  0.457449 -1.125403 -0.691048  0.679121  0.294277   \n",
       "2    -1.071765  0.360776  0.429568  0.000258 -0.230236  0.647133 -0.351384   \n",
       "3    -0.585354  1.721321  0.559554  0.524083  0.423090 -2.655619  0.979959   \n",
       "4    -0.138216  0.362481  1.644938 -0.405064  0.077312 -0.768841  0.736434   \n",
       "...        ...       ...       ...       ...       ...       ...       ...   \n",
       "4271 -0.652277  0.018154 -0.932543 -2.547121 -1.212662  1.254672  0.643867   \n",
       "4272 -0.189907 -0.429355  0.150455 -2.154215  0.871342  0.013126 -1.330322   \n",
       "4273  0.302485  0.462996 -0.727287  0.161395  0.998660 -1.961543 -1.233265   \n",
       "4274  0.375454 -0.728032 -1.044260  1.084774  0.328865  0.220368 -0.504772   \n",
       "4275 -0.722547  1.664428  0.738958  0.502147  1.026120 -0.054398  0.277712   \n",
       "\n",
       "             7  Cluster  \n",
       "0    -1.075218        1  \n",
       "1    -1.161827        1  \n",
       "2     0.084188        4  \n",
       "3    -1.428075        4  \n",
       "4     0.365725        1  \n",
       "...        ...      ...  \n",
       "4271 -0.834654        4  \n",
       "4272 -0.822954        1  \n",
       "4273 -0.281278        2  \n",
       "4274 -2.294968        0  \n",
       "4275  1.165959        4  \n",
       "\n",
       "[4276 rows x 9 columns]"
      ]
     },
     "execution_count": 144,
     "metadata": {},
     "output_type": "execute_result"
    }
   ],
   "source": [
    "X_cluster_df"
   ]
  },
  {
   "cell_type": "code",
   "execution_count": 145,
   "metadata": {},
   "outputs": [],
   "source": [
    "data =X_cluster_df.drop([\"Cluster\"], axis=1)"
   ]
  },
  {
   "cell_type": "code",
   "execution_count": 146,
   "metadata": {},
   "outputs": [
    {
     "data": {
      "text/html": [
       "<div>\n",
       "<style scoped>\n",
       "    .dataframe tbody tr th:only-of-type {\n",
       "        vertical-align: middle;\n",
       "    }\n",
       "\n",
       "    .dataframe tbody tr th {\n",
       "        vertical-align: top;\n",
       "    }\n",
       "\n",
       "    .dataframe thead th {\n",
       "        text-align: right;\n",
       "    }\n",
       "</style>\n",
       "<table border=\"1\" class=\"dataframe\">\n",
       "  <thead>\n",
       "    <tr style=\"text-align: right;\">\n",
       "      <th></th>\n",
       "      <th>0</th>\n",
       "      <th>1</th>\n",
       "      <th>2</th>\n",
       "      <th>3</th>\n",
       "      <th>4</th>\n",
       "      <th>5</th>\n",
       "      <th>6</th>\n",
       "      <th>7</th>\n",
       "    </tr>\n",
       "  </thead>\n",
       "  <tbody>\n",
       "    <tr>\n",
       "      <th>0</th>\n",
       "      <td>-1.659269</td>\n",
       "      <td>0.137912</td>\n",
       "      <td>-0.503717</td>\n",
       "      <td>-1.191325</td>\n",
       "      <td>0.441221</td>\n",
       "      <td>1.695298</td>\n",
       "      <td>-0.659309</td>\n",
       "      <td>-1.075218</td>\n",
       "    </tr>\n",
       "    <tr>\n",
       "      <th>1</th>\n",
       "      <td>1.615011</td>\n",
       "      <td>1.288685</td>\n",
       "      <td>0.457449</td>\n",
       "      <td>-1.125403</td>\n",
       "      <td>-0.691048</td>\n",
       "      <td>0.679121</td>\n",
       "      <td>0.294277</td>\n",
       "      <td>-1.161827</td>\n",
       "    </tr>\n",
       "    <tr>\n",
       "      <th>2</th>\n",
       "      <td>-1.071765</td>\n",
       "      <td>0.360776</td>\n",
       "      <td>0.429568</td>\n",
       "      <td>0.000258</td>\n",
       "      <td>-0.230236</td>\n",
       "      <td>0.647133</td>\n",
       "      <td>-0.351384</td>\n",
       "      <td>0.084188</td>\n",
       "    </tr>\n",
       "    <tr>\n",
       "      <th>3</th>\n",
       "      <td>-0.585354</td>\n",
       "      <td>1.721321</td>\n",
       "      <td>0.559554</td>\n",
       "      <td>0.524083</td>\n",
       "      <td>0.423090</td>\n",
       "      <td>-2.655619</td>\n",
       "      <td>0.979959</td>\n",
       "      <td>-1.428075</td>\n",
       "    </tr>\n",
       "    <tr>\n",
       "      <th>4</th>\n",
       "      <td>-0.138216</td>\n",
       "      <td>0.362481</td>\n",
       "      <td>1.644938</td>\n",
       "      <td>-0.405064</td>\n",
       "      <td>0.077312</td>\n",
       "      <td>-0.768841</td>\n",
       "      <td>0.736434</td>\n",
       "      <td>0.365725</td>\n",
       "    </tr>\n",
       "    <tr>\n",
       "      <th>...</th>\n",
       "      <td>...</td>\n",
       "      <td>...</td>\n",
       "      <td>...</td>\n",
       "      <td>...</td>\n",
       "      <td>...</td>\n",
       "      <td>...</td>\n",
       "      <td>...</td>\n",
       "      <td>...</td>\n",
       "    </tr>\n",
       "    <tr>\n",
       "      <th>4271</th>\n",
       "      <td>-0.652277</td>\n",
       "      <td>0.018154</td>\n",
       "      <td>-0.932543</td>\n",
       "      <td>-2.547121</td>\n",
       "      <td>-1.212662</td>\n",
       "      <td>1.254672</td>\n",
       "      <td>0.643867</td>\n",
       "      <td>-0.834654</td>\n",
       "    </tr>\n",
       "    <tr>\n",
       "      <th>4272</th>\n",
       "      <td>-0.189907</td>\n",
       "      <td>-0.429355</td>\n",
       "      <td>0.150455</td>\n",
       "      <td>-2.154215</td>\n",
       "      <td>0.871342</td>\n",
       "      <td>0.013126</td>\n",
       "      <td>-1.330322</td>\n",
       "      <td>-0.822954</td>\n",
       "    </tr>\n",
       "    <tr>\n",
       "      <th>4273</th>\n",
       "      <td>0.302485</td>\n",
       "      <td>0.462996</td>\n",
       "      <td>-0.727287</td>\n",
       "      <td>0.161395</td>\n",
       "      <td>0.998660</td>\n",
       "      <td>-1.961543</td>\n",
       "      <td>-1.233265</td>\n",
       "      <td>-0.281278</td>\n",
       "    </tr>\n",
       "    <tr>\n",
       "      <th>4274</th>\n",
       "      <td>0.375454</td>\n",
       "      <td>-0.728032</td>\n",
       "      <td>-1.044260</td>\n",
       "      <td>1.084774</td>\n",
       "      <td>0.328865</td>\n",
       "      <td>0.220368</td>\n",
       "      <td>-0.504772</td>\n",
       "      <td>-2.294968</td>\n",
       "    </tr>\n",
       "    <tr>\n",
       "      <th>4275</th>\n",
       "      <td>-0.722547</td>\n",
       "      <td>1.664428</td>\n",
       "      <td>0.738958</td>\n",
       "      <td>0.502147</td>\n",
       "      <td>1.026120</td>\n",
       "      <td>-0.054398</td>\n",
       "      <td>0.277712</td>\n",
       "      <td>1.165959</td>\n",
       "    </tr>\n",
       "  </tbody>\n",
       "</table>\n",
       "<p>4276 rows × 8 columns</p>\n",
       "</div>"
      ],
      "text/plain": [
       "             0         1         2         3         4         5         6  \\\n",
       "0    -1.659269  0.137912 -0.503717 -1.191325  0.441221  1.695298 -0.659309   \n",
       "1     1.615011  1.288685  0.457449 -1.125403 -0.691048  0.679121  0.294277   \n",
       "2    -1.071765  0.360776  0.429568  0.000258 -0.230236  0.647133 -0.351384   \n",
       "3    -0.585354  1.721321  0.559554  0.524083  0.423090 -2.655619  0.979959   \n",
       "4    -0.138216  0.362481  1.644938 -0.405064  0.077312 -0.768841  0.736434   \n",
       "...        ...       ...       ...       ...       ...       ...       ...   \n",
       "4271 -0.652277  0.018154 -0.932543 -2.547121 -1.212662  1.254672  0.643867   \n",
       "4272 -0.189907 -0.429355  0.150455 -2.154215  0.871342  0.013126 -1.330322   \n",
       "4273  0.302485  0.462996 -0.727287  0.161395  0.998660 -1.961543 -1.233265   \n",
       "4274  0.375454 -0.728032 -1.044260  1.084774  0.328865  0.220368 -0.504772   \n",
       "4275 -0.722547  1.664428  0.738958  0.502147  1.026120 -0.054398  0.277712   \n",
       "\n",
       "             7  \n",
       "0    -1.075218  \n",
       "1    -1.161827  \n",
       "2     0.084188  \n",
       "3    -1.428075  \n",
       "4     0.365725  \n",
       "...        ...  \n",
       "4271 -0.834654  \n",
       "4272 -0.822954  \n",
       "4273 -0.281278  \n",
       "4274 -2.294968  \n",
       "4275  1.165959  \n",
       "\n",
       "[4276 rows x 8 columns]"
      ]
     },
     "execution_count": 146,
     "metadata": {},
     "output_type": "execute_result"
    }
   ],
   "source": [
    "data"
   ]
  },
  {
   "cell_type": "code",
   "execution_count": 147,
   "metadata": {},
   "outputs": [],
   "source": [
    "train_data, test_data, train_labels, test_labels = train_test_split(data, target, random_state=0, shuffle=True, test_size=0.3)"
   ]
  },
  {
   "cell_type": "code",
   "execution_count": 148,
   "metadata": {},
   "outputs": [
    {
     "name": "stderr",
     "output_type": "stream",
     "text": [
      "C:\\Users\\Ashesh\\Anaconda3\\lib\\site-packages\\sklearn\\externals\\joblib\\__init__.py:15: FutureWarning: sklearn.externals.joblib is deprecated in 0.21 and will be removed in 0.23. Please import this functionality directly from joblib, which can be installed with: pip install joblib. If this warning is raised when loading pickled models, you may need to re-serialize those models with scikit-learn 0.21+.\n",
      "  warnings.warn(msg, category=FutureWarning)\n"
     ]
    },
    {
     "name": "stdout",
     "output_type": "stream",
     "text": [
      "Logistic Regression pipeline test accuracy: 0.380\n",
      "Support Vector Machine pipeline test accuracy: 0.371\n",
      "Decision Tree pipeline test accuracy: 0.330\n",
      "KNN pipeline test accuracy: 0.297\n",
      "Random Forest pipeline test accuracy: 0.412\n",
      "Classifier with best accuracy: Random Forest\n"
     ]
    }
   ],
   "source": [
    "from sklearn.pipeline import Pipeline\n",
    "from sklearn.externals import joblib\n",
    "from sklearn.linear_model import LogisticRegression\n",
    "from sklearn.decomposition import PCA\n",
    "from sklearn.neighbors import KNeighborsClassifier\n",
    "from sklearn.ensemble import RandomForestClassifier\n",
    "from sklearn import svm\n",
    "from sklearn import tree\n",
    "\n",
    "\n",
    "# Construct some pipelines\n",
    "pipe_lr = Pipeline([('scl', StandardScaler()),\n",
    "\n",
    "\t\t\t('clf', LogisticRegression(random_state=42))])\n",
    "\n",
    "pipe_svm = Pipeline([('scl', StandardScaler()),\n",
    "                    \n",
    "\n",
    "\t\t\t('clf', svm.SVC(random_state=42))])\n",
    "\n",
    "pipe_dt = Pipeline([\n",
    "\n",
    "\t\t\t('clf', tree.DecisionTreeClassifier(random_state=42))])\n",
    "\n",
    "pipe_KNN = Pipeline([('scl', StandardScaler()),\n",
    "\n",
    "\t\t\t('clf', KNeighborsClassifier(n_neighbors=3))])\n",
    "\n",
    "pipe_RF = Pipeline([\n",
    "\n",
    "\t\t\t('clf', RandomForestClassifier(random_state=42))])\n",
    "\n",
    "\n",
    "# List of pipelines for ease of iteration\n",
    "pipelines = [pipe_lr, pipe_svm, pipe_dt, pipe_KNN, pipe_RF]\n",
    "\t\t\t\n",
    "# Dictionary of pipelines and classifier types for ease of reference\n",
    "pipe_dict = {0: 'Logistic Regression', 1: 'Support Vector Machine', 2: 'Decision Tree', 3:'KNN', 4:'Random Forest'}\n",
    "\n",
    "# Fit the pipelines\n",
    "for pipe in pipelines:\n",
    "\tpipe.fit(train_data, train_labels)\n",
    "\n",
    "# Compare accuracies\n",
    "for idx, val in enumerate(pipelines):\n",
    "\tprint('%s pipeline test accuracy: %.3f' % (pipe_dict[idx], val.score(test_data, test_labels)))\n",
    "\n",
    "# Identify the most accurate model on test data\n",
    "best_acc = 0.0\n",
    "best_clf = 0\n",
    "best_pipe = ''\n",
    "for idx, val in enumerate(pipelines):\n",
    "\tif val.score(test_data, test_labels) > best_acc:\n",
    "\t\tbest_acc = val.score(test_data, test_labels)\n",
    "\t\tbest_pipe = val\n",
    "\t\tbest_clf = idx\n",
    "print('Classifier with best accuracy: %s' % pipe_dict[best_clf])"
   ]
  },
  {
   "cell_type": "markdown",
   "metadata": {},
   "source": [
    "## Feature Selection and Hyperparameter Tuning RandomForest"
   ]
  },
  {
   "cell_type": "code",
   "execution_count": 149,
   "metadata": {},
   "outputs": [],
   "source": [
    "from mlxtend.feature_selection import SequentialFeatureSelector as SFS\n",
    "from mlxtend.plotting import plot_sequential_feature_selection as plot_sfs"
   ]
  },
  {
   "cell_type": "code",
   "execution_count": 150,
   "metadata": {},
   "outputs": [],
   "source": [
    "rf = RandomForestClassifier()"
   ]
  },
  {
   "cell_type": "code",
   "execution_count": 151,
   "metadata": {},
   "outputs": [],
   "source": [
    "from sklearn.model_selection import GridSearchCV\n",
    "# Create the parameter grid based on the results of random search \n",
    "param_grid = {\n",
    "    'bootstrap': [True],\n",
    "    'max_depth': [80, 90, 100, 110],\n",
    "    'max_features': [2, 3],\n",
    "    'min_samples_leaf': [3, 4, 5],\n",
    "    'min_samples_split': [8, 10, 12],\n",
    "    'n_estimators': [100, 200, 300, 1000]\n",
    "}\n",
    "# Create a based model\n",
    "rf = RandomForestClassifier()\n",
    "# Instantiate the grid search model\n",
    "grid_search = GridSearchCV(estimator = rf, param_grid = param_grid, \n",
    "                          cv = 5, n_jobs = -1, verbose = 2)"
   ]
  },
  {
   "cell_type": "code",
   "execution_count": 152,
   "metadata": {},
   "outputs": [
    {
     "name": "stdout",
     "output_type": "stream",
     "text": [
      "Fitting 5 folds for each of 288 candidates, totalling 1440 fits\n"
     ]
    },
    {
     "name": "stderr",
     "output_type": "stream",
     "text": [
      "[Parallel(n_jobs=-1)]: Using backend LokyBackend with 8 concurrent workers.\n",
      "[Parallel(n_jobs=-1)]: Done  25 tasks      | elapsed:   12.6s\n",
      "[Parallel(n_jobs=-1)]: Done 146 tasks      | elapsed:  1.4min\n",
      "[Parallel(n_jobs=-1)]: Done 349 tasks      | elapsed:  3.5min\n",
      "[Parallel(n_jobs=-1)]: Done 632 tasks      | elapsed:  6.2min\n",
      "[Parallel(n_jobs=-1)]: Done 997 tasks      | elapsed:  9.8min\n",
      "[Parallel(n_jobs=-1)]: Done 1440 out of 1440 | elapsed: 14.3min finished\n"
     ]
    },
    {
     "data": {
      "text/plain": [
       "GridSearchCV(cv=5, estimator=RandomForestClassifier(), n_jobs=-1,\n",
       "             param_grid={'bootstrap': [True], 'max_depth': [80, 90, 100, 110],\n",
       "                         'max_features': [2, 3], 'min_samples_leaf': [3, 4, 5],\n",
       "                         'min_samples_split': [8, 10, 12],\n",
       "                         'n_estimators': [100, 200, 300, 1000]},\n",
       "             verbose=2)"
      ]
     },
     "execution_count": 152,
     "metadata": {},
     "output_type": "execute_result"
    }
   ],
   "source": [
    "grid_search.fit(train_data, train_labels)"
   ]
  },
  {
   "cell_type": "code",
   "execution_count": 153,
   "metadata": {},
   "outputs": [
    {
     "data": {
      "text/plain": [
       "{'bootstrap': True,\n",
       " 'max_depth': 90,\n",
       " 'max_features': 3,\n",
       " 'min_samples_leaf': 3,\n",
       " 'min_samples_split': 10,\n",
       " 'n_estimators': 300}"
      ]
     },
     "execution_count": 153,
     "metadata": {},
     "output_type": "execute_result"
    }
   ],
   "source": [
    "grid_search.best_params_"
   ]
  },
  {
   "cell_type": "code",
   "execution_count": null,
   "metadata": {},
   "outputs": [],
   "source": [
    "## fitting RF model with following features"
   ]
  },
  {
   "cell_type": "code",
   "execution_count": 154,
   "metadata": {},
   "outputs": [],
   "source": [
    "rf_bp = RandomForestClassifier(bootstrap ='True',\n",
    " max_depth= 90,\n",
    " max_features= 3,\n",
    " min_samples_leaf = 3,\n",
    " min_samples_split = 10,\n",
    " n_estimators = 300)"
   ]
  },
  {
   "cell_type": "code",
   "execution_count": 155,
   "metadata": {},
   "outputs": [
    {
     "data": {
      "text/plain": [
       "RandomForestClassifier(bootstrap='True', max_depth=90, max_features=3,\n",
       "                       min_samples_leaf=3, min_samples_split=10,\n",
       "                       n_estimators=300)"
      ]
     },
     "execution_count": 155,
     "metadata": {},
     "output_type": "execute_result"
    }
   ],
   "source": [
    "rf_bp.fit(train_data, train_labels)"
   ]
  },
  {
   "cell_type": "code",
   "execution_count": 156,
   "metadata": {},
   "outputs": [],
   "source": [
    "forest_pred = rf_bp.predict(test_data)"
   ]
  },
  {
   "cell_type": "code",
   "execution_count": 157,
   "metadata": {},
   "outputs": [],
   "source": [
    "from sklearn.metrics import accuracy_score"
   ]
  },
  {
   "cell_type": "code",
   "execution_count": 158,
   "metadata": {},
   "outputs": [],
   "source": [
    "from sklearn.metrics import accuracy_score"
   ]
  },
  {
   "cell_type": "code",
   "execution_count": 159,
   "metadata": {},
   "outputs": [
    {
     "data": {
      "text/plain": [
       "0.4224473889321902"
      ]
     },
     "execution_count": 159,
     "metadata": {},
     "output_type": "execute_result"
    }
   ],
   "source": [
    "accuracy_score(forest_pred, test_labels)"
   ]
  },
  {
   "cell_type": "markdown",
   "metadata": {},
   "source": [
    "## Training whole data"
   ]
  },
  {
   "cell_type": "code",
   "execution_count": 160,
   "metadata": {},
   "outputs": [],
   "source": [
    "rf_whole = RandomForestClassifier(bootstrap ='True',\n",
    " max_depth= 110,\n",
    " max_features= 2,\n",
    " min_samples_leaf = 3,\n",
    " min_samples_split = 8,\n",
    " n_estimators = 200)"
   ]
  },
  {
   "cell_type": "code",
   "execution_count": 161,
   "metadata": {},
   "outputs": [
    {
     "data": {
      "text/plain": [
       "RandomForestClassifier(bootstrap='True', max_depth=110, max_features=2,\n",
       "                       min_samples_leaf=3, min_samples_split=8,\n",
       "                       n_estimators=200)"
      ]
     },
     "execution_count": 161,
     "metadata": {},
     "output_type": "execute_result"
    }
   ],
   "source": [
    "rf_whole.fit(data, target)"
   ]
  },
  {
   "cell_type": "markdown",
   "metadata": {},
   "source": [
    "### predicting class labels"
   ]
  },
  {
   "cell_type": "code",
   "execution_count": 162,
   "metadata": {},
   "outputs": [],
   "source": [
    "global_x_weights = global_pls.x_weights_"
   ]
  },
  {
   "cell_type": "code",
   "execution_count": 163,
   "metadata": {},
   "outputs": [
    {
     "data": {
      "text/plain": [
       "array([[-1.0511255 ,  1.44899485,  0.95959703, ...,  0.76370733,\n",
       "         0.80519979,  0.45480522],\n",
       "       [ 1.26341898,  0.74620904, -0.23286662, ..., -0.23116333,\n",
       "        -0.83109032,  0.37200117],\n",
       "       [ 0.80200898, -1.54219358, -0.98461002, ...,  0.61372948,\n",
       "        -0.4345646 ,  0.04438796],\n",
       "       ...,\n",
       "       [ 0.84134831,  1.26298934,  0.54188917, ...,  1.01964696,\n",
       "         1.40335163, -0.18085337],\n",
       "       [-0.42963529, -0.1432256 , -0.02004518, ..., -1.70000438,\n",
       "        -0.37569325,  1.00258156],\n",
       "       [ 1.29396861,  0.57442155, -0.83468859, ..., -1.52161002,\n",
       "        -0.54762489,  0.02775884]])"
      ]
     },
     "execution_count": 163,
     "metadata": {},
     "output_type": "execute_result"
    }
   ],
   "source": [
    "Test_X_data"
   ]
  },
  {
   "cell_type": "code",
   "execution_count": 164,
   "metadata": {},
   "outputs": [],
   "source": [
    "X_scores_proj = np.dot(Test_X_data,global_x_weights)"
   ]
  },
  {
   "cell_type": "code",
   "execution_count": 165,
   "metadata": {},
   "outputs": [
    {
     "data": {
      "text/plain": [
       "array([[ 1.13649056, -0.08392072, -0.37516839, ...,  2.00372333,\n",
       "         1.08813401,  0.88597075],\n",
       "       [-0.46188143,  1.1761236 ,  0.60908913, ..., -0.04370855,\n",
       "         1.00129463,  0.87103049],\n",
       "       [-1.55218651,  0.57734932, -0.50982084, ...,  1.19153802,\n",
       "         1.28129748,  0.29753138],\n",
       "       ...,\n",
       "       [ 1.07520493, -0.86289948, -1.30945161, ..., -0.72631565,\n",
       "        -0.08976007,  1.00710964],\n",
       "       [-0.45230921, -0.84484572, -0.55117047, ...,  0.17561042,\n",
       "         0.78684594, -0.48191823],\n",
       "       [-0.36551798,  0.21759855, -0.45454234, ..., -0.93437511,\n",
       "        -0.44939977, -1.22678277]])"
      ]
     },
     "execution_count": 165,
     "metadata": {},
     "output_type": "execute_result"
    }
   ],
   "source": [
    "X_scores_proj"
   ]
  },
  {
   "cell_type": "code",
   "execution_count": 171,
   "metadata": {},
   "outputs": [],
   "source": [
    "pred_rf = rf_whole.predict(X_scores_proj)"
   ]
  },
  {
   "cell_type": "code",
   "execution_count": 172,
   "metadata": {},
   "outputs": [
    {
     "data": {
      "text/plain": [
       "(1068,)"
      ]
     },
     "execution_count": 172,
     "metadata": {},
     "output_type": "execute_result"
    }
   ],
   "source": [
    "pred_rf.shape"
   ]
  },
  {
   "cell_type": "code",
   "execution_count": 173,
   "metadata": {},
   "outputs": [],
   "source": [
    "## Appending this to the projected_X_scores"
   ]
  },
  {
   "cell_type": "code",
   "execution_count": 174,
   "metadata": {},
   "outputs": [],
   "source": [
    "projected_X_scores = pd.DataFrame(X_scores_proj)"
   ]
  },
  {
   "cell_type": "code",
   "execution_count": 175,
   "metadata": {},
   "outputs": [],
   "source": [
    "projected_X_scores['Cluster'] = pred_rf"
   ]
  },
  {
   "cell_type": "code",
   "execution_count": 176,
   "metadata": {},
   "outputs": [
    {
     "data": {
      "text/html": [
       "<div>\n",
       "<style scoped>\n",
       "    .dataframe tbody tr th:only-of-type {\n",
       "        vertical-align: middle;\n",
       "    }\n",
       "\n",
       "    .dataframe tbody tr th {\n",
       "        vertical-align: top;\n",
       "    }\n",
       "\n",
       "    .dataframe thead th {\n",
       "        text-align: right;\n",
       "    }\n",
       "</style>\n",
       "<table border=\"1\" class=\"dataframe\">\n",
       "  <thead>\n",
       "    <tr style=\"text-align: right;\">\n",
       "      <th></th>\n",
       "      <th>0</th>\n",
       "      <th>1</th>\n",
       "      <th>2</th>\n",
       "      <th>3</th>\n",
       "      <th>4</th>\n",
       "      <th>5</th>\n",
       "      <th>6</th>\n",
       "      <th>7</th>\n",
       "      <th>Cluster</th>\n",
       "    </tr>\n",
       "  </thead>\n",
       "  <tbody>\n",
       "    <tr>\n",
       "      <th>0</th>\n",
       "      <td>1.136491</td>\n",
       "      <td>-0.083921</td>\n",
       "      <td>-0.375168</td>\n",
       "      <td>-0.085730</td>\n",
       "      <td>0.895042</td>\n",
       "      <td>2.003723</td>\n",
       "      <td>1.088134</td>\n",
       "      <td>0.885971</td>\n",
       "      <td>4</td>\n",
       "    </tr>\n",
       "    <tr>\n",
       "      <th>1</th>\n",
       "      <td>-0.461881</td>\n",
       "      <td>1.176124</td>\n",
       "      <td>0.609089</td>\n",
       "      <td>-1.229547</td>\n",
       "      <td>1.324955</td>\n",
       "      <td>-0.043709</td>\n",
       "      <td>1.001295</td>\n",
       "      <td>0.871030</td>\n",
       "      <td>4</td>\n",
       "    </tr>\n",
       "    <tr>\n",
       "      <th>2</th>\n",
       "      <td>-1.552187</td>\n",
       "      <td>0.577349</td>\n",
       "      <td>-0.509821</td>\n",
       "      <td>-0.609637</td>\n",
       "      <td>-0.966493</td>\n",
       "      <td>1.191538</td>\n",
       "      <td>1.281297</td>\n",
       "      <td>0.297531</td>\n",
       "      <td>4</td>\n",
       "    </tr>\n",
       "    <tr>\n",
       "      <th>3</th>\n",
       "      <td>-0.138804</td>\n",
       "      <td>0.529017</td>\n",
       "      <td>0.392164</td>\n",
       "      <td>-0.073413</td>\n",
       "      <td>0.634821</td>\n",
       "      <td>-0.655733</td>\n",
       "      <td>-1.323056</td>\n",
       "      <td>-0.402522</td>\n",
       "      <td>2</td>\n",
       "    </tr>\n",
       "    <tr>\n",
       "      <th>4</th>\n",
       "      <td>0.533019</td>\n",
       "      <td>-1.853959</td>\n",
       "      <td>-0.233325</td>\n",
       "      <td>-0.613871</td>\n",
       "      <td>-1.437574</td>\n",
       "      <td>1.509737</td>\n",
       "      <td>0.721286</td>\n",
       "      <td>-0.190091</td>\n",
       "      <td>4</td>\n",
       "    </tr>\n",
       "    <tr>\n",
       "      <th>...</th>\n",
       "      <td>...</td>\n",
       "      <td>...</td>\n",
       "      <td>...</td>\n",
       "      <td>...</td>\n",
       "      <td>...</td>\n",
       "      <td>...</td>\n",
       "      <td>...</td>\n",
       "      <td>...</td>\n",
       "      <td>...</td>\n",
       "    </tr>\n",
       "    <tr>\n",
       "      <th>1063</th>\n",
       "      <td>0.335290</td>\n",
       "      <td>-0.880359</td>\n",
       "      <td>0.632480</td>\n",
       "      <td>1.110354</td>\n",
       "      <td>0.469298</td>\n",
       "      <td>-0.311407</td>\n",
       "      <td>-0.452391</td>\n",
       "      <td>-0.292255</td>\n",
       "      <td>3</td>\n",
       "    </tr>\n",
       "    <tr>\n",
       "      <th>1064</th>\n",
       "      <td>1.808698</td>\n",
       "      <td>1.154866</td>\n",
       "      <td>0.281126</td>\n",
       "      <td>0.506668</td>\n",
       "      <td>1.068688</td>\n",
       "      <td>0.062251</td>\n",
       "      <td>0.371456</td>\n",
       "      <td>-0.668896</td>\n",
       "      <td>2</td>\n",
       "    </tr>\n",
       "    <tr>\n",
       "      <th>1065</th>\n",
       "      <td>1.075205</td>\n",
       "      <td>-0.862899</td>\n",
       "      <td>-1.309452</td>\n",
       "      <td>0.569444</td>\n",
       "      <td>1.613558</td>\n",
       "      <td>-0.726316</td>\n",
       "      <td>-0.089760</td>\n",
       "      <td>1.007110</td>\n",
       "      <td>4</td>\n",
       "    </tr>\n",
       "    <tr>\n",
       "      <th>1066</th>\n",
       "      <td>-0.452309</td>\n",
       "      <td>-0.844846</td>\n",
       "      <td>-0.551170</td>\n",
       "      <td>1.517170</td>\n",
       "      <td>1.145125</td>\n",
       "      <td>0.175610</td>\n",
       "      <td>0.786846</td>\n",
       "      <td>-0.481918</td>\n",
       "      <td>3</td>\n",
       "    </tr>\n",
       "    <tr>\n",
       "      <th>1067</th>\n",
       "      <td>-0.365518</td>\n",
       "      <td>0.217599</td>\n",
       "      <td>-0.454542</td>\n",
       "      <td>2.728586</td>\n",
       "      <td>-0.728407</td>\n",
       "      <td>-0.934375</td>\n",
       "      <td>-0.449400</td>\n",
       "      <td>-1.226783</td>\n",
       "      <td>4</td>\n",
       "    </tr>\n",
       "  </tbody>\n",
       "</table>\n",
       "<p>1068 rows × 9 columns</p>\n",
       "</div>"
      ],
      "text/plain": [
       "             0         1         2         3         4         5         6  \\\n",
       "0     1.136491 -0.083921 -0.375168 -0.085730  0.895042  2.003723  1.088134   \n",
       "1    -0.461881  1.176124  0.609089 -1.229547  1.324955 -0.043709  1.001295   \n",
       "2    -1.552187  0.577349 -0.509821 -0.609637 -0.966493  1.191538  1.281297   \n",
       "3    -0.138804  0.529017  0.392164 -0.073413  0.634821 -0.655733 -1.323056   \n",
       "4     0.533019 -1.853959 -0.233325 -0.613871 -1.437574  1.509737  0.721286   \n",
       "...        ...       ...       ...       ...       ...       ...       ...   \n",
       "1063  0.335290 -0.880359  0.632480  1.110354  0.469298 -0.311407 -0.452391   \n",
       "1064  1.808698  1.154866  0.281126  0.506668  1.068688  0.062251  0.371456   \n",
       "1065  1.075205 -0.862899 -1.309452  0.569444  1.613558 -0.726316 -0.089760   \n",
       "1066 -0.452309 -0.844846 -0.551170  1.517170  1.145125  0.175610  0.786846   \n",
       "1067 -0.365518  0.217599 -0.454542  2.728586 -0.728407 -0.934375 -0.449400   \n",
       "\n",
       "             7  Cluster  \n",
       "0     0.885971        4  \n",
       "1     0.871030        4  \n",
       "2     0.297531        4  \n",
       "3    -0.402522        2  \n",
       "4    -0.190091        4  \n",
       "...        ...      ...  \n",
       "1063 -0.292255        3  \n",
       "1064 -0.668896        2  \n",
       "1065  1.007110        4  \n",
       "1066 -0.481918        3  \n",
       "1067 -1.226783        4  \n",
       "\n",
       "[1068 rows x 9 columns]"
      ]
     },
     "execution_count": 176,
     "metadata": {},
     "output_type": "execute_result"
    }
   ],
   "source": [
    "projected_X_scores\n"
   ]
  },
  {
   "cell_type": "markdown",
   "metadata": {},
   "source": [
    "## Extracting class label 0,1,2,3,4 and 5"
   ]
  },
  {
   "cell_type": "code",
   "execution_count": 177,
   "metadata": {},
   "outputs": [],
   "source": [
    "X_scores_0 = projected_X_scores.loc[projected_X_scores['Cluster'] == 0].drop([\"Cluster\"],axis=1)\n",
    "X_scores_1 = projected_X_scores.loc[projected_X_scores['Cluster'] == 1].drop([\"Cluster\"],axis=1)\n",
    "X_scores_2 = projected_X_scores.loc[projected_X_scores['Cluster'] == 2].drop([\"Cluster\"],axis=1)\n",
    "X_scores_3 = projected_X_scores.loc[projected_X_scores['Cluster'] == 3].drop([\"Cluster\"],axis=1)\n",
    "X_scores_4 = projected_X_scores.loc[projected_X_scores['Cluster'] == 4].drop([\"Cluster\"],axis=1)\n",
    "X_scores_5 = projected_X_scores.loc[projected_X_scores['Cluster'] == 5].drop([\"Cluster\"],axis=1)"
   ]
  },
  {
   "cell_type": "code",
   "execution_count": 178,
   "metadata": {},
   "outputs": [],
   "source": [
    "Test_X_data = pd.DataFrame(Test_X_data)\n",
    "Test_Y_data = pd.DataFrame(Test_Y_data)\n"
   ]
  },
  {
   "cell_type": "code",
   "execution_count": 202,
   "metadata": {},
   "outputs": [
    {
     "data": {
      "text/html": [
       "<div>\n",
       "<style scoped>\n",
       "    .dataframe tbody tr th:only-of-type {\n",
       "        vertical-align: middle;\n",
       "    }\n",
       "\n",
       "    .dataframe tbody tr th {\n",
       "        vertical-align: top;\n",
       "    }\n",
       "\n",
       "    .dataframe thead th {\n",
       "        text-align: right;\n",
       "    }\n",
       "</style>\n",
       "<table border=\"1\" class=\"dataframe\">\n",
       "  <thead>\n",
       "    <tr style=\"text-align: right;\">\n",
       "      <th></th>\n",
       "      <th>0</th>\n",
       "      <th>1</th>\n",
       "      <th>2</th>\n",
       "    </tr>\n",
       "  </thead>\n",
       "  <tbody>\n",
       "    <tr>\n",
       "      <th>0</th>\n",
       "      <td>-0.923139</td>\n",
       "      <td>1.376673</td>\n",
       "      <td>-0.289839</td>\n",
       "    </tr>\n",
       "    <tr>\n",
       "      <th>1</th>\n",
       "      <td>-0.923139</td>\n",
       "      <td>-0.398494</td>\n",
       "      <td>-0.500270</td>\n",
       "    </tr>\n",
       "    <tr>\n",
       "      <th>2</th>\n",
       "      <td>0.364738</td>\n",
       "      <td>-2.084635</td>\n",
       "      <td>-0.445086</td>\n",
       "    </tr>\n",
       "    <tr>\n",
       "      <th>3</th>\n",
       "      <td>0.364738</td>\n",
       "      <td>-1.011790</td>\n",
       "      <td>-0.571113</td>\n",
       "    </tr>\n",
       "    <tr>\n",
       "      <th>4</th>\n",
       "      <td>-0.923139</td>\n",
       "      <td>1.229985</td>\n",
       "      <td>0.958228</td>\n",
       "    </tr>\n",
       "    <tr>\n",
       "      <th>...</th>\n",
       "      <td>...</td>\n",
       "      <td>...</td>\n",
       "      <td>...</td>\n",
       "    </tr>\n",
       "    <tr>\n",
       "      <th>1063</th>\n",
       "      <td>0.364738</td>\n",
       "      <td>0.440857</td>\n",
       "      <td>2.225985</td>\n",
       "    </tr>\n",
       "    <tr>\n",
       "      <th>1064</th>\n",
       "      <td>-2.211017</td>\n",
       "      <td>1.112777</td>\n",
       "      <td>-0.605792</td>\n",
       "    </tr>\n",
       "    <tr>\n",
       "      <th>1065</th>\n",
       "      <td>0.364738</td>\n",
       "      <td>1.428381</td>\n",
       "      <td>-0.422076</td>\n",
       "    </tr>\n",
       "    <tr>\n",
       "      <th>1066</th>\n",
       "      <td>1.652615</td>\n",
       "      <td>-0.840976</td>\n",
       "      <td>-0.335278</td>\n",
       "    </tr>\n",
       "    <tr>\n",
       "      <th>1067</th>\n",
       "      <td>0.364738</td>\n",
       "      <td>-0.214965</td>\n",
       "      <td>-0.393715</td>\n",
       "    </tr>\n",
       "  </tbody>\n",
       "</table>\n",
       "<p>1068 rows × 3 columns</p>\n",
       "</div>"
      ],
      "text/plain": [
       "             0         1         2\n",
       "0    -0.923139  1.376673 -0.289839\n",
       "1    -0.923139 -0.398494 -0.500270\n",
       "2     0.364738 -2.084635 -0.445086\n",
       "3     0.364738 -1.011790 -0.571113\n",
       "4    -0.923139  1.229985  0.958228\n",
       "...        ...       ...       ...\n",
       "1063  0.364738  0.440857  2.225985\n",
       "1064 -2.211017  1.112777 -0.605792\n",
       "1065  0.364738  1.428381 -0.422076\n",
       "1066  1.652615 -0.840976 -0.335278\n",
       "1067  0.364738 -0.214965 -0.393715\n",
       "\n",
       "[1068 rows x 3 columns]"
      ]
     },
     "execution_count": 202,
     "metadata": {},
     "output_type": "execute_result"
    }
   ],
   "source": [
    "Test_Y_data"
   ]
  },
  {
   "cell_type": "code",
   "execution_count": 179,
   "metadata": {},
   "outputs": [],
   "source": [
    "Test_X_data_0= Test_X_data[Test_X_data.index.isin(X_scores_0.index)]\n",
    "Test_X_data_1= Test_X_data[Test_X_data.index.isin(X_scores_1.index)]\n",
    "Test_X_data_2= Test_X_data[Test_X_data.index.isin(X_scores_2.index)]\n",
    "Test_X_data_3= Test_X_data[Test_X_data.index.isin(X_scores_3.index)]\n",
    "Test_X_data_4= Test_X_data[Test_X_data.index.isin(X_scores_4.index)]\n",
    "Test_X_data_5= Test_X_data[Test_X_data.index.isin(X_scores_5.index)]"
   ]
  },
  {
   "cell_type": "code",
   "execution_count": 180,
   "metadata": {},
   "outputs": [],
   "source": [
    "Test_Y_data_0 = Test_Y_data[Test_Y_data.index.isin(X_scores_0.index)]\n",
    "Test_Y_data_1 = Test_Y_data[Test_Y_data.index.isin(X_scores_1.index)]\n",
    "Test_Y_data_2 = Test_Y_data[Test_Y_data.index.isin(X_scores_2.index)]\n",
    "Test_Y_data_3 = Test_Y_data[Test_Y_data.index.isin(X_scores_3.index)]\n",
    "Test_Y_data_4 = Test_Y_data[Test_Y_data.index.isin(X_scores_4.index)]\n",
    "Test_Y_data_5 = Test_Y_data[Test_Y_data.index.isin(X_scores_5.index)]"
   ]
  },
  {
   "cell_type": "code",
   "execution_count": 181,
   "metadata": {},
   "outputs": [],
   "source": [
    "## Predictions"
   ]
  },
  {
   "cell_type": "code",
   "execution_count": 182,
   "metadata": {},
   "outputs": [],
   "source": [
    "pred_0 = local_pls_0.predict(Test_X_data_0)\n",
    "pred_1 = local_pls_1.predict(Test_X_data_1)\n",
    "pred_2 = local_pls_2.predict(Test_X_data_2)\n",
    "pred_3 = local_pls_3.predict(Test_X_data_3)\n",
    "pred_4 = local_pls_4.predict(Test_X_data_4)\n",
    "pred_5 = local_pls_5.predict(Test_X_data_5)"
   ]
  },
  {
   "cell_type": "code",
   "execution_count": 183,
   "metadata": {},
   "outputs": [],
   "source": [
    "all_pred = np.concatenate([pred_0, pred_1, pred_2, pred_3,pred_4, pred_5])"
   ]
  },
  {
   "cell_type": "code",
   "execution_count": 184,
   "metadata": {},
   "outputs": [
    {
     "data": {
      "text/plain": [
       "(1068, 3)"
      ]
     },
     "execution_count": 184,
     "metadata": {},
     "output_type": "execute_result"
    }
   ],
   "source": [
    "all_pred.shape\n"
   ]
  },
  {
   "cell_type": "code",
   "execution_count": 185,
   "metadata": {},
   "outputs": [],
   "source": [
    "## Appending Truth values Y_test "
   ]
  },
  {
   "cell_type": "code",
   "execution_count": 186,
   "metadata": {},
   "outputs": [],
   "source": [
    "Y_test_sequential = pd.concat([Test_Y_data_0, Test_Y_data_1, Test_Y_data_2, Test_Y_data_3, Test_Y_data_4, Test_Y_data_5])"
   ]
  },
  {
   "cell_type": "code",
   "execution_count": 201,
   "metadata": {},
   "outputs": [
    {
     "data": {
      "text/html": [
       "<div>\n",
       "<style scoped>\n",
       "    .dataframe tbody tr th:only-of-type {\n",
       "        vertical-align: middle;\n",
       "    }\n",
       "\n",
       "    .dataframe tbody tr th {\n",
       "        vertical-align: top;\n",
       "    }\n",
       "\n",
       "    .dataframe thead th {\n",
       "        text-align: right;\n",
       "    }\n",
       "</style>\n",
       "<table border=\"1\" class=\"dataframe\">\n",
       "  <thead>\n",
       "    <tr style=\"text-align: right;\">\n",
       "      <th></th>\n",
       "      <th>0</th>\n",
       "      <th>1</th>\n",
       "      <th>2</th>\n",
       "      <th>3</th>\n",
       "      <th>4</th>\n",
       "      <th>5</th>\n",
       "      <th>6</th>\n",
       "      <th>7</th>\n",
       "      <th>8</th>\n",
       "      <th>9</th>\n",
       "      <th>...</th>\n",
       "      <th>66</th>\n",
       "      <th>67</th>\n",
       "      <th>68</th>\n",
       "      <th>69</th>\n",
       "      <th>70</th>\n",
       "      <th>71</th>\n",
       "      <th>72</th>\n",
       "      <th>73</th>\n",
       "      <th>74</th>\n",
       "      <th>75</th>\n",
       "    </tr>\n",
       "  </thead>\n",
       "  <tbody>\n",
       "    <tr>\n",
       "      <th>7</th>\n",
       "      <td>-1.606426</td>\n",
       "      <td>-1.491618</td>\n",
       "      <td>1.480516</td>\n",
       "      <td>-0.430442</td>\n",
       "      <td>-1.244627</td>\n",
       "      <td>-0.968661</td>\n",
       "      <td>-1.120541</td>\n",
       "      <td>-0.898947</td>\n",
       "      <td>-1.675913</td>\n",
       "      <td>0.846018</td>\n",
       "      <td>...</td>\n",
       "      <td>-1.139774</td>\n",
       "      <td>-1.203663</td>\n",
       "      <td>-0.534347</td>\n",
       "      <td>-1.719829</td>\n",
       "      <td>-1.108717</td>\n",
       "      <td>0.876623</td>\n",
       "      <td>0.959507</td>\n",
       "      <td>0.908089</td>\n",
       "      <td>-1.201873</td>\n",
       "      <td>0.943896</td>\n",
       "    </tr>\n",
       "    <tr>\n",
       "      <th>8</th>\n",
       "      <td>-1.329650</td>\n",
       "      <td>0.558393</td>\n",
       "      <td>0.663825</td>\n",
       "      <td>1.440943</td>\n",
       "      <td>0.868027</td>\n",
       "      <td>-1.111181</td>\n",
       "      <td>0.508826</td>\n",
       "      <td>-1.032275</td>\n",
       "      <td>1.479526</td>\n",
       "      <td>0.372341</td>\n",
       "      <td>...</td>\n",
       "      <td>1.625018</td>\n",
       "      <td>-0.020165</td>\n",
       "      <td>-0.098965</td>\n",
       "      <td>-1.658504</td>\n",
       "      <td>-1.216165</td>\n",
       "      <td>-0.904081</td>\n",
       "      <td>0.769799</td>\n",
       "      <td>-1.400929</td>\n",
       "      <td>0.455939</td>\n",
       "      <td>0.750394</td>\n",
       "    </tr>\n",
       "    <tr>\n",
       "      <th>9</th>\n",
       "      <td>0.250249</td>\n",
       "      <td>-1.717745</td>\n",
       "      <td>0.353663</td>\n",
       "      <td>-0.903930</td>\n",
       "      <td>1.546557</td>\n",
       "      <td>-1.635149</td>\n",
       "      <td>0.024558</td>\n",
       "      <td>1.614358</td>\n",
       "      <td>1.079114</td>\n",
       "      <td>0.361289</td>\n",
       "      <td>...</td>\n",
       "      <td>0.840684</td>\n",
       "      <td>-1.631503</td>\n",
       "      <td>1.128056</td>\n",
       "      <td>0.231640</td>\n",
       "      <td>0.700406</td>\n",
       "      <td>-0.876542</td>\n",
       "      <td>-1.034083</td>\n",
       "      <td>-1.663613</td>\n",
       "      <td>0.309919</td>\n",
       "      <td>0.963658</td>\n",
       "    </tr>\n",
       "    <tr>\n",
       "      <th>27</th>\n",
       "      <td>1.081177</td>\n",
       "      <td>1.210450</td>\n",
       "      <td>-0.237808</td>\n",
       "      <td>-0.479665</td>\n",
       "      <td>0.192646</td>\n",
       "      <td>0.354436</td>\n",
       "      <td>0.950178</td>\n",
       "      <td>-1.384853</td>\n",
       "      <td>1.027385</td>\n",
       "      <td>1.052158</td>\n",
       "      <td>...</td>\n",
       "      <td>-0.772164</td>\n",
       "      <td>-1.002918</td>\n",
       "      <td>-1.593270</td>\n",
       "      <td>-0.079176</td>\n",
       "      <td>-0.257430</td>\n",
       "      <td>-1.105124</td>\n",
       "      <td>-0.964759</td>\n",
       "      <td>-0.171770</td>\n",
       "      <td>1.252617</td>\n",
       "      <td>-0.209230</td>\n",
       "    </tr>\n",
       "    <tr>\n",
       "      <th>46</th>\n",
       "      <td>1.740240</td>\n",
       "      <td>0.780345</td>\n",
       "      <td>-1.194966</td>\n",
       "      <td>1.663695</td>\n",
       "      <td>1.602967</td>\n",
       "      <td>-0.882586</td>\n",
       "      <td>1.164194</td>\n",
       "      <td>1.469736</td>\n",
       "      <td>0.846895</td>\n",
       "      <td>-0.567062</td>\n",
       "      <td>...</td>\n",
       "      <td>-1.089061</td>\n",
       "      <td>-1.454173</td>\n",
       "      <td>-1.503145</td>\n",
       "      <td>-0.258006</td>\n",
       "      <td>0.290011</td>\n",
       "      <td>-1.567941</td>\n",
       "      <td>-1.719457</td>\n",
       "      <td>-1.477427</td>\n",
       "      <td>0.866022</td>\n",
       "      <td>-0.216464</td>\n",
       "    </tr>\n",
       "    <tr>\n",
       "      <th>...</th>\n",
       "      <td>...</td>\n",
       "      <td>...</td>\n",
       "      <td>...</td>\n",
       "      <td>...</td>\n",
       "      <td>...</td>\n",
       "      <td>...</td>\n",
       "      <td>...</td>\n",
       "      <td>...</td>\n",
       "      <td>...</td>\n",
       "      <td>...</td>\n",
       "      <td>...</td>\n",
       "      <td>...</td>\n",
       "      <td>...</td>\n",
       "      <td>...</td>\n",
       "      <td>...</td>\n",
       "      <td>...</td>\n",
       "      <td>...</td>\n",
       "      <td>...</td>\n",
       "      <td>...</td>\n",
       "      <td>...</td>\n",
       "      <td>...</td>\n",
       "    </tr>\n",
       "    <tr>\n",
       "      <th>1048</th>\n",
       "      <td>0.993485</td>\n",
       "      <td>-0.202911</td>\n",
       "      <td>0.731393</td>\n",
       "      <td>1.672671</td>\n",
       "      <td>0.987788</td>\n",
       "      <td>-1.343158</td>\n",
       "      <td>1.086596</td>\n",
       "      <td>-0.719255</td>\n",
       "      <td>1.450488</td>\n",
       "      <td>0.307677</td>\n",
       "      <td>...</td>\n",
       "      <td>1.371760</td>\n",
       "      <td>0.668079</td>\n",
       "      <td>1.576489</td>\n",
       "      <td>0.110402</td>\n",
       "      <td>-0.376606</td>\n",
       "      <td>0.583982</td>\n",
       "      <td>-1.219208</td>\n",
       "      <td>-1.409521</td>\n",
       "      <td>1.388056</td>\n",
       "      <td>0.353996</td>\n",
       "    </tr>\n",
       "    <tr>\n",
       "      <th>1052</th>\n",
       "      <td>1.423922</td>\n",
       "      <td>-1.395493</td>\n",
       "      <td>-1.533240</td>\n",
       "      <td>0.849275</td>\n",
       "      <td>1.433480</td>\n",
       "      <td>0.065857</td>\n",
       "      <td>-0.705120</td>\n",
       "      <td>-1.603429</td>\n",
       "      <td>-1.232842</td>\n",
       "      <td>1.035603</td>\n",
       "      <td>...</td>\n",
       "      <td>-1.204330</td>\n",
       "      <td>-0.338225</td>\n",
       "      <td>-1.302905</td>\n",
       "      <td>-1.482191</td>\n",
       "      <td>0.141592</td>\n",
       "      <td>-0.375617</td>\n",
       "      <td>-1.473707</td>\n",
       "      <td>-1.090946</td>\n",
       "      <td>-1.177734</td>\n",
       "      <td>-1.468359</td>\n",
       "    </tr>\n",
       "    <tr>\n",
       "      <th>1057</th>\n",
       "      <td>1.653853</td>\n",
       "      <td>-1.079941</td>\n",
       "      <td>-0.548954</td>\n",
       "      <td>0.121604</td>\n",
       "      <td>-0.749101</td>\n",
       "      <td>-0.398739</td>\n",
       "      <td>-0.721193</td>\n",
       "      <td>-1.245336</td>\n",
       "      <td>1.282776</td>\n",
       "      <td>0.041207</td>\n",
       "      <td>...</td>\n",
       "      <td>1.666651</td>\n",
       "      <td>1.185134</td>\n",
       "      <td>0.694253</td>\n",
       "      <td>-1.015475</td>\n",
       "      <td>1.711964</td>\n",
       "      <td>0.906826</td>\n",
       "      <td>1.059512</td>\n",
       "      <td>0.862072</td>\n",
       "      <td>-0.684968</td>\n",
       "      <td>-1.301295</td>\n",
       "    </tr>\n",
       "    <tr>\n",
       "      <th>1058</th>\n",
       "      <td>-1.285350</td>\n",
       "      <td>0.162457</td>\n",
       "      <td>0.254583</td>\n",
       "      <td>-0.990191</td>\n",
       "      <td>-0.299518</td>\n",
       "      <td>1.353038</td>\n",
       "      <td>1.353500</td>\n",
       "      <td>0.389497</td>\n",
       "      <td>1.643671</td>\n",
       "      <td>-1.507366</td>\n",
       "      <td>...</td>\n",
       "      <td>1.198096</td>\n",
       "      <td>-1.453167</td>\n",
       "      <td>0.492117</td>\n",
       "      <td>-1.704275</td>\n",
       "      <td>-0.628407</td>\n",
       "      <td>1.057761</td>\n",
       "      <td>0.035675</td>\n",
       "      <td>1.691702</td>\n",
       "      <td>0.363445</td>\n",
       "      <td>-1.373053</td>\n",
       "    </tr>\n",
       "    <tr>\n",
       "      <th>1062</th>\n",
       "      <td>-1.273246</td>\n",
       "      <td>-0.221324</td>\n",
       "      <td>-1.626660</td>\n",
       "      <td>-0.484662</td>\n",
       "      <td>1.388490</td>\n",
       "      <td>0.769346</td>\n",
       "      <td>0.646840</td>\n",
       "      <td>1.610919</td>\n",
       "      <td>0.440390</td>\n",
       "      <td>1.207720</td>\n",
       "      <td>...</td>\n",
       "      <td>-0.418151</td>\n",
       "      <td>0.348574</td>\n",
       "      <td>-0.437170</td>\n",
       "      <td>-0.177958</td>\n",
       "      <td>-0.347165</td>\n",
       "      <td>1.573998</td>\n",
       "      <td>0.357522</td>\n",
       "      <td>-0.687077</td>\n",
       "      <td>0.544793</td>\n",
       "      <td>-0.505127</td>\n",
       "    </tr>\n",
       "  </tbody>\n",
       "</table>\n",
       "<p>220 rows × 76 columns</p>\n",
       "</div>"
      ],
      "text/plain": [
       "            0         1         2         3         4         5         6   \\\n",
       "7    -1.606426 -1.491618  1.480516 -0.430442 -1.244627 -0.968661 -1.120541   \n",
       "8    -1.329650  0.558393  0.663825  1.440943  0.868027 -1.111181  0.508826   \n",
       "9     0.250249 -1.717745  0.353663 -0.903930  1.546557 -1.635149  0.024558   \n",
       "27    1.081177  1.210450 -0.237808 -0.479665  0.192646  0.354436  0.950178   \n",
       "46    1.740240  0.780345 -1.194966  1.663695  1.602967 -0.882586  1.164194   \n",
       "...        ...       ...       ...       ...       ...       ...       ...   \n",
       "1048  0.993485 -0.202911  0.731393  1.672671  0.987788 -1.343158  1.086596   \n",
       "1052  1.423922 -1.395493 -1.533240  0.849275  1.433480  0.065857 -0.705120   \n",
       "1057  1.653853 -1.079941 -0.548954  0.121604 -0.749101 -0.398739 -0.721193   \n",
       "1058 -1.285350  0.162457  0.254583 -0.990191 -0.299518  1.353038  1.353500   \n",
       "1062 -1.273246 -0.221324 -1.626660 -0.484662  1.388490  0.769346  0.646840   \n",
       "\n",
       "            7         8         9   ...        66        67        68  \\\n",
       "7    -0.898947 -1.675913  0.846018  ... -1.139774 -1.203663 -0.534347   \n",
       "8    -1.032275  1.479526  0.372341  ...  1.625018 -0.020165 -0.098965   \n",
       "9     1.614358  1.079114  0.361289  ...  0.840684 -1.631503  1.128056   \n",
       "27   -1.384853  1.027385  1.052158  ... -0.772164 -1.002918 -1.593270   \n",
       "46    1.469736  0.846895 -0.567062  ... -1.089061 -1.454173 -1.503145   \n",
       "...        ...       ...       ...  ...       ...       ...       ...   \n",
       "1048 -0.719255  1.450488  0.307677  ...  1.371760  0.668079  1.576489   \n",
       "1052 -1.603429 -1.232842  1.035603  ... -1.204330 -0.338225 -1.302905   \n",
       "1057 -1.245336  1.282776  0.041207  ...  1.666651  1.185134  0.694253   \n",
       "1058  0.389497  1.643671 -1.507366  ...  1.198096 -1.453167  0.492117   \n",
       "1062  1.610919  0.440390  1.207720  ... -0.418151  0.348574 -0.437170   \n",
       "\n",
       "            69        70        71        72        73        74        75  \n",
       "7    -1.719829 -1.108717  0.876623  0.959507  0.908089 -1.201873  0.943896  \n",
       "8    -1.658504 -1.216165 -0.904081  0.769799 -1.400929  0.455939  0.750394  \n",
       "9     0.231640  0.700406 -0.876542 -1.034083 -1.663613  0.309919  0.963658  \n",
       "27   -0.079176 -0.257430 -1.105124 -0.964759 -0.171770  1.252617 -0.209230  \n",
       "46   -0.258006  0.290011 -1.567941 -1.719457 -1.477427  0.866022 -0.216464  \n",
       "...        ...       ...       ...       ...       ...       ...       ...  \n",
       "1048  0.110402 -0.376606  0.583982 -1.219208 -1.409521  1.388056  0.353996  \n",
       "1052 -1.482191  0.141592 -0.375617 -1.473707 -1.090946 -1.177734 -1.468359  \n",
       "1057 -1.015475  1.711964  0.906826  1.059512  0.862072 -0.684968 -1.301295  \n",
       "1058 -1.704275 -0.628407  1.057761  0.035675  1.691702  0.363445 -1.373053  \n",
       "1062 -0.177958 -0.347165  1.573998  0.357522 -0.687077  0.544793 -0.505127  \n",
       "\n",
       "[220 rows x 76 columns]"
      ]
     },
     "execution_count": 201,
     "metadata": {},
     "output_type": "execute_result"
    }
   ],
   "source": [
    "Test_X_data_0"
   ]
  },
  {
   "cell_type": "code",
   "execution_count": 187,
   "metadata": {},
   "outputs": [
    {
     "data": {
      "text/html": [
       "<div>\n",
       "<style scoped>\n",
       "    .dataframe tbody tr th:only-of-type {\n",
       "        vertical-align: middle;\n",
       "    }\n",
       "\n",
       "    .dataframe tbody tr th {\n",
       "        vertical-align: top;\n",
       "    }\n",
       "\n",
       "    .dataframe thead th {\n",
       "        text-align: right;\n",
       "    }\n",
       "</style>\n",
       "<table border=\"1\" class=\"dataframe\">\n",
       "  <thead>\n",
       "    <tr style=\"text-align: right;\">\n",
       "      <th></th>\n",
       "      <th>0</th>\n",
       "      <th>1</th>\n",
       "      <th>2</th>\n",
       "    </tr>\n",
       "  </thead>\n",
       "  <tbody>\n",
       "    <tr>\n",
       "      <th>7</th>\n",
       "      <td>-2.211017</td>\n",
       "      <td>-0.965232</td>\n",
       "      <td>0.125401</td>\n",
       "    </tr>\n",
       "    <tr>\n",
       "      <th>8</th>\n",
       "      <td>-0.923139</td>\n",
       "      <td>1.614527</td>\n",
       "      <td>-0.468019</td>\n",
       "    </tr>\n",
       "    <tr>\n",
       "      <th>9</th>\n",
       "      <td>-0.923139</td>\n",
       "      <td>0.998349</td>\n",
       "      <td>-0.543399</td>\n",
       "    </tr>\n",
       "    <tr>\n",
       "      <th>27</th>\n",
       "      <td>-0.923139</td>\n",
       "      <td>0.706541</td>\n",
       "      <td>-0.400366</td>\n",
       "    </tr>\n",
       "    <tr>\n",
       "      <th>46</th>\n",
       "      <td>-0.923139</td>\n",
       "      <td>0.852231</td>\n",
       "      <td>-0.557501</td>\n",
       "    </tr>\n",
       "    <tr>\n",
       "      <th>...</th>\n",
       "      <td>...</td>\n",
       "      <td>...</td>\n",
       "      <td>...</td>\n",
       "    </tr>\n",
       "    <tr>\n",
       "      <th>1067</th>\n",
       "      <td>0.364738</td>\n",
       "      <td>-0.214965</td>\n",
       "      <td>-0.393715</td>\n",
       "    </tr>\n",
       "    <tr>\n",
       "      <th>176</th>\n",
       "      <td>0.364738</td>\n",
       "      <td>0.160373</td>\n",
       "      <td>2.982766</td>\n",
       "    </tr>\n",
       "    <tr>\n",
       "      <th>242</th>\n",
       "      <td>1.652615</td>\n",
       "      <td>-0.775068</td>\n",
       "      <td>-0.062805</td>\n",
       "    </tr>\n",
       "    <tr>\n",
       "      <th>327</th>\n",
       "      <td>0.364738</td>\n",
       "      <td>-0.765666</td>\n",
       "      <td>-0.225660</td>\n",
       "    </tr>\n",
       "    <tr>\n",
       "      <th>691</th>\n",
       "      <td>1.652615</td>\n",
       "      <td>0.577569</td>\n",
       "      <td>1.158286</td>\n",
       "    </tr>\n",
       "  </tbody>\n",
       "</table>\n",
       "<p>1068 rows × 3 columns</p>\n",
       "</div>"
      ],
      "text/plain": [
       "             0         1         2\n",
       "7    -2.211017 -0.965232  0.125401\n",
       "8    -0.923139  1.614527 -0.468019\n",
       "9    -0.923139  0.998349 -0.543399\n",
       "27   -0.923139  0.706541 -0.400366\n",
       "46   -0.923139  0.852231 -0.557501\n",
       "...        ...       ...       ...\n",
       "1067  0.364738 -0.214965 -0.393715\n",
       "176   0.364738  0.160373  2.982766\n",
       "242   1.652615 -0.775068 -0.062805\n",
       "327   0.364738 -0.765666 -0.225660\n",
       "691   1.652615  0.577569  1.158286\n",
       "\n",
       "[1068 rows x 3 columns]"
      ]
     },
     "execution_count": 187,
     "metadata": {},
     "output_type": "execute_result"
    }
   ],
   "source": [
    "Y_test_sequential"
   ]
  },
  {
   "cell_type": "code",
   "execution_count": 188,
   "metadata": {},
   "outputs": [
    {
     "name": "stdout",
     "output_type": "stream",
     "text": [
      "0.4475225359115819\n"
     ]
    }
   ],
   "source": [
    "print(r2_score(Y_test_sequential,all_pred))"
   ]
  },
  {
   "cell_type": "code",
   "execution_count": 189,
   "metadata": {},
   "outputs": [],
   "source": [
    "Y_test_sequential = Y_test_sequential.to_numpy()"
   ]
  },
  {
   "cell_type": "code",
   "execution_count": 190,
   "metadata": {},
   "outputs": [
    {
     "data": {
      "text/html": [
       "<div>\n",
       "<style scoped>\n",
       "    .dataframe tbody tr th:only-of-type {\n",
       "        vertical-align: middle;\n",
       "    }\n",
       "\n",
       "    .dataframe tbody tr th {\n",
       "        vertical-align: top;\n",
       "    }\n",
       "\n",
       "    .dataframe thead th {\n",
       "        text-align: right;\n",
       "    }\n",
       "</style>\n",
       "<table border=\"1\" class=\"dataframe\">\n",
       "  <thead>\n",
       "    <tr style=\"text-align: right;\">\n",
       "      <th></th>\n",
       "      <th>r2_score</th>\n",
       "      <th>r2_score</th>\n",
       "    </tr>\n",
       "  </thead>\n",
       "  <tbody>\n",
       "    <tr>\n",
       "      <th>first_ap_time</th>\n",
       "      <td>0.682207</td>\n",
       "      <td>0.600645</td>\n",
       "    </tr>\n",
       "    <tr>\n",
       "      <th>first_ap_amp</th>\n",
       "      <td>0.913587</td>\n",
       "      <td>0.901715</td>\n",
       "    </tr>\n",
       "    <tr>\n",
       "      <th>first_ap_width</th>\n",
       "      <td>0.243805</td>\n",
       "      <td>-0.159792</td>\n",
       "    </tr>\n",
       "  </tbody>\n",
       "</table>\n",
       "</div>"
      ],
      "text/plain": [
       "                r2_score  r2_score\n",
       "first_ap_time   0.682207  0.600645\n",
       "first_ap_amp    0.913587  0.901715\n",
       "first_ap_width  0.243805 -0.159792"
      ]
     },
     "execution_count": 190,
     "metadata": {},
     "output_type": "execute_result"
    }
   ],
   "source": [
    "extra_results_df = pd.DataFrame([r2_score(Y_test_sequential[:,i],all_pred[:,i]) for i in range(len(names))],index=names,columns=['r2_score'])\n",
    "results_df = pd.concat([results_df,extra_results_df],axis=1)\n",
    "results_df"
   ]
  },
  {
   "cell_type": "markdown",
   "metadata": {},
   "source": [
    "## Plots"
   ]
  },
  {
   "cell_type": "code",
   "execution_count": 191,
   "metadata": {},
   "outputs": [],
   "source": [
    "global_reg = pd.DataFrame(global_pls.coef_)\n",
    "local_0_reg = pd.DataFrame(local_pls_0.coef_)\n",
    "local_1_reg = pd.DataFrame(local_pls_1.coef_)\n",
    "local_2_reg = pd.DataFrame(local_pls_2.coef_)\n",
    "local_3_reg = pd.DataFrame(local_pls_3.coef_)\n",
    "local_4_reg = pd.DataFrame(local_pls_4.coef_)\n",
    "local_5_reg = pd.DataFrame(local_pls_5.coef_)"
   ]
  },
  {
   "cell_type": "code",
   "execution_count": 192,
   "metadata": {},
   "outputs": [],
   "source": [
    "g = global_pls.coef_\n",
    "p0= local_pls_0.coef_\n",
    "p1= local_pls_1.coef_\n",
    "p2=local_pls_2.coef_\n",
    "p3=local_pls_3.coef_\n",
    "p4=local_pls_4.coef_\n",
    "p5=local_pls_5.coef_"
   ]
  },
  {
   "cell_type": "code",
   "execution_count": 193,
   "metadata": {},
   "outputs": [
    {
     "data": {
      "text/html": [
       "<div>\n",
       "<style scoped>\n",
       "    .dataframe tbody tr th:only-of-type {\n",
       "        vertical-align: middle;\n",
       "    }\n",
       "\n",
       "    .dataframe tbody tr th {\n",
       "        vertical-align: top;\n",
       "    }\n",
       "\n",
       "    .dataframe thead th {\n",
       "        text-align: right;\n",
       "    }\n",
       "</style>\n",
       "<table border=\"1\" class=\"dataframe\">\n",
       "  <thead>\n",
       "    <tr style=\"text-align: right;\">\n",
       "      <th></th>\n",
       "      <th>0</th>\n",
       "      <th>1</th>\n",
       "      <th>2</th>\n",
       "    </tr>\n",
       "  </thead>\n",
       "  <tbody>\n",
       "    <tr>\n",
       "      <th>0</th>\n",
       "      <td>0.033862</td>\n",
       "      <td>-0.126467</td>\n",
       "      <td>0.003602</td>\n",
       "    </tr>\n",
       "    <tr>\n",
       "      <th>1</th>\n",
       "      <td>-0.004444</td>\n",
       "      <td>0.001810</td>\n",
       "      <td>0.006863</td>\n",
       "    </tr>\n",
       "    <tr>\n",
       "      <th>2</th>\n",
       "      <td>-0.137271</td>\n",
       "      <td>0.118695</td>\n",
       "      <td>0.169205</td>\n",
       "    </tr>\n",
       "    <tr>\n",
       "      <th>3</th>\n",
       "      <td>-0.004934</td>\n",
       "      <td>-0.007385</td>\n",
       "      <td>-0.104640</td>\n",
       "    </tr>\n",
       "    <tr>\n",
       "      <th>4</th>\n",
       "      <td>0.071261</td>\n",
       "      <td>-0.017679</td>\n",
       "      <td>-0.021510</td>\n",
       "    </tr>\n",
       "    <tr>\n",
       "      <th>...</th>\n",
       "      <td>...</td>\n",
       "      <td>...</td>\n",
       "      <td>...</td>\n",
       "    </tr>\n",
       "    <tr>\n",
       "      <th>71</th>\n",
       "      <td>0.015105</td>\n",
       "      <td>0.003776</td>\n",
       "      <td>-0.013317</td>\n",
       "    </tr>\n",
       "    <tr>\n",
       "      <th>72</th>\n",
       "      <td>0.001290</td>\n",
       "      <td>-0.006121</td>\n",
       "      <td>0.028293</td>\n",
       "    </tr>\n",
       "    <tr>\n",
       "      <th>73</th>\n",
       "      <td>0.010857</td>\n",
       "      <td>0.001012</td>\n",
       "      <td>-0.007523</td>\n",
       "    </tr>\n",
       "    <tr>\n",
       "      <th>74</th>\n",
       "      <td>-0.017514</td>\n",
       "      <td>-0.006458</td>\n",
       "      <td>-0.002826</td>\n",
       "    </tr>\n",
       "    <tr>\n",
       "      <th>75</th>\n",
       "      <td>-0.006602</td>\n",
       "      <td>0.002288</td>\n",
       "      <td>0.023020</td>\n",
       "    </tr>\n",
       "  </tbody>\n",
       "</table>\n",
       "<p>76 rows × 3 columns</p>\n",
       "</div>"
      ],
      "text/plain": [
       "           0         1         2\n",
       "0   0.033862 -0.126467  0.003602\n",
       "1  -0.004444  0.001810  0.006863\n",
       "2  -0.137271  0.118695  0.169205\n",
       "3  -0.004934 -0.007385 -0.104640\n",
       "4   0.071261 -0.017679 -0.021510\n",
       "..       ...       ...       ...\n",
       "71  0.015105  0.003776 -0.013317\n",
       "72  0.001290 -0.006121  0.028293\n",
       "73  0.010857  0.001012 -0.007523\n",
       "74 -0.017514 -0.006458 -0.002826\n",
       "75 -0.006602  0.002288  0.023020\n",
       "\n",
       "[76 rows x 3 columns]"
      ]
     },
     "execution_count": 193,
     "metadata": {},
     "output_type": "execute_result"
    }
   ],
   "source": [
    "global_reg"
   ]
  },
  {
   "cell_type": "code",
   "execution_count": 211,
   "metadata": {},
   "outputs": [],
   "source": [
    "coeffs= np.array([p0,p1,p2,p3,p4,p5])"
   ]
  },
  {
   "cell_type": "code",
   "execution_count": 212,
   "metadata": {},
   "outputs": [
    {
     "data": {
      "text/plain": [
       "(6, 76, 3)"
      ]
     },
     "execution_count": 212,
     "metadata": {},
     "output_type": "execute_result"
    }
   ],
   "source": [
    "coeffs.shape"
   ]
  },
  {
   "cell_type": "code",
   "execution_count": 213,
   "metadata": {},
   "outputs": [],
   "source": [
    "headers = ['V_myo(um3)', 'V_SR(um3)', 'V_myo_uL(uL)', 'V_SR_uL(uL)',\n",
    "       'i_NaK_max(uA)', 'K_m_K(mM)', 'K_m_Na(mM)', 'K_o(millimolar)',\n",
    "        'Na_o(millimolar)',\n",
    "           'Ca_TRPN_Max(mM)', 'g_Na(microS)', 'g_t(microS)',\n",
    "       'a_endo', 'b_endo', 'g_ss(microS)', 'g_K1(microS)', 'g_f(microS)',\n",
    "       'f_Na', 'g_B_Na(microS)', 'g_B_Ca(microS)', 'g_B_K(microS)',\n",
    "       'E_Ca(millivolt)', 'Ca_o(millimolar)', 'g_D(um3_per_ms)',\n",
    "       'J_R(um3_per_ms)', 'J_L(um3_per_ms)', 'N', 'K_mNa(mM)', 'K_mCa(mM)',\n",
    "       'eta', 'k_sat', 'g_NCX(mM_per_ms)', 'g_SERCA(mM_per_ms)', 'K_SERCA(mM)',\n",
    "       'g_pCa(mM_per_ms)', 'K_mpCa(mM)', 'g_CaB(mM_per_mV_ms)',\n",
    "       'g_SRl(per_ms)', 'k_CMDN(mM)', 'B_CMDN(mM)', 'k_on(per_mM_per_ms)',\n",
    "       'k_Ref_off(per_ms)', 'gamma_trpn', 'alpha_0(per_ms)',\n",
    "       'alpha_r1(per_ms)', 'alpha_r2(per_ms)', 'n_Rel', 'K_z', 'n_Hill',\n",
    "       'Ca_50ref(mM)', 'z_p', 'beta_1', 'beta_0', 'T_ref(N_per_mm2)',\n",
    "       'a in component Cross_Bridges', 'A_1', 'A_2', 'A_3', 'alpha_1(per_ms)',\n",
    "       'alpha_2(per_ms)', 'alpha_3(per_ms)', 'V_L(mV)', 'del_VL(mV)', 'phi_L',\n",
    "       't_L(ms)', 'tau_L(ms)', 'tau_R(ms)', 'phi_R', 'theta_R', 'K_RyR(mM)',\n",
    "       'K_L(mM)', 'a', 'b', 'c', 'd', 'tau_s_ss']"
   ]
  },
  {
   "cell_type": "code",
   "execution_count": 214,
   "metadata": {},
   "outputs": [],
   "source": [
    "ag_names = ['Time to AP','Amplitude of AP','Width of AP']"
   ]
  },
  {
   "cell_type": "code",
   "execution_count": 276,
   "metadata": {},
   "outputs": [
    {
     "data": {
      "image/png": "[encoded data removed]",
      "text/plain": [
       "<Figure size 1440x720 with 3 Axes>"
      ]
     },
     "metadata": {},
     "output_type": "display_data"
    }
   ],
   "source": [
    "\n",
    "plt.figure(figsize=(20,10))\n",
    "for n,agt in enumerate(ag_names):\n",
    "  plt.subplot(3,1,n+1)\n",
    "  plt.title(ag_names[n],fontweight='bold',fontsize=14)\n",
    "  width=0.1\n",
    "\n",
    "  x = np.array([i for i in range(0,15)])\n",
    "\n",
    "  plt.bar(x-0.2,coeffs[0,:15,n].T,width=width,label='cluster: 1')\n",
    "  plt.bar(x-0.1,coeffs[1,:15,n].T,width=width,label='cluster: 2')\n",
    "  plt.bar(x    ,coeffs[2,:15,n].T,width=width,label='cluster: 3')\n",
    "  plt.bar(x+0.1,coeffs[3,:15,n].T,width=width,label='cluster: 4')\n",
    "  plt.bar(x+0.2,coeffs[4,:15,n].T,width=width,label='cluster: 5')\n",
    "  plt.bar(x+0.3,coeffs[5,:15,n].T,width=width,label='cluster: 6')\n",
    "  \n",
    "  \n",
    "  if n == 0:\n",
    "    plt.ylim(-1.5,1.5)\n",
    "    plt.ylabel('Regression coefficients',fontweight='bold',fontsize=14)\n",
    "    plt.tick_params(axis='x',labelbottom=False)\n",
    "    plt.legend(bbox_to_anchor=(1, 1),prop={'size': 20})\n",
    "    \n",
    "  elif n == 1:\n",
    "    plt.ylim(-1.5,1.5)\n",
    "    plt.ylabel('Regression coefficients',fontweight='bold',fontsize=14)\n",
    "    plt.tick_params(axis='x',labelbottom=False)\n",
    "    \n",
    "    \n",
    "  else:\n",
    "    plt.ylim(-1.5,1.5)\n",
    "    plt.ylabel('Regression coefficients',fontweight='bold',fontsize=14)\n",
    "    #plt.xticks(x,headers[:8],fontweight='bold',fontsize=16)\n",
    "    ax=plt.gca()\n",
    "    ax.set_xticks(x)\n",
    "    \n",
    "    #ax.set_xtickslabels(headers[:14])\n",
    "    ax.tick_params(labelsize=15)\n",
    "    ax.set_xticklabels(headers, weight='bold', rotation=45)\n",
    "    plt.xlabel('Parameter',fontweight='bold',fontsize=16)\n",
    "    \n",
    "    plt.tight_layout()"
   ]
  },
  {
   "cell_type": "markdown",
   "metadata": {},
   "source": []
  },
  {
   "cell_type": "markdown",
   "metadata": {},
   "source": [
    "## selecting important ones"
   ]
  },
  {
   "cell_type": "code",
   "execution_count": 277,
   "metadata": {},
   "outputs": [],
   "source": [
    "headers = ['V_myo(um3)', 'V_SR(um3)', 'V_myo_uL(uL)', 'V_SR_uL(uL)',\n",
    "       'i_NaK_max(uA)', 'K_m_K(mM)', 'K_m_Na(mM)', 'K_o(millimolar)',\n",
    "        'Na_o(millimolar)',\n",
    "           'Ca_TRPN_Max(mM)', 'g_Na(microS)', 'g_t(microS)',\n",
    "       'a_endo', 'b_endo', 'g_ss(microS)', 'g_K1(microS)', 'g_f(microS)',\n",
    "       'f_Na', 'g_B_Na(microS)', 'g_B_Ca(microS)', 'g_B_K(microS)',\n",
    "       'E_Ca(millivolt)', 'Ca_o(millimolar)', 'g_D(um3_per_ms)',\n",
    "       'J_R(um3_per_ms)', 'J_L(um3_per_ms)', 'N', 'K_mNa(mM)', 'K_mCa(mM)',\n",
    "       'eta', 'k_sat', 'g_NCX(mM_per_ms)', 'g_SERCA(mM_per_ms)', 'K_SERCA(mM)',\n",
    "       'g_pCa(mM_per_ms)', 'K_mpCa(mM)', 'g_CaB(mM_per_mV_ms)',\n",
    "       'g_SRl(per_ms)', 'k_CMDN(mM)', 'B_CMDN(mM)', 'k_on(per_mM_per_ms)',\n",
    "       'k_Ref_off(per_ms)', 'gamma_trpn', 'alpha_0(per_ms)',\n",
    "       'alpha_r1(per_ms)', 'alpha_r2(per_ms)', 'n_Rel', 'K_z', 'n_Hill',\n",
    "       'Ca_50ref(mM)', 'z_p', 'beta_1', 'beta_0', 'T_ref(N_per_mm2)',\n",
    "       'a in component Cross_Bridges', 'A_1', 'A_2', 'A_3', 'alpha_1(per_ms)',\n",
    "       'alpha_2(per_ms)', 'alpha_3(per_ms)', 'V_L(mV)', 'del_VL(mV)', 'phi_L',\n",
    "       't_L(ms)', 'tau_L(ms)', 'tau_R(ms)', 'phi_R', 'theta_R', 'K_RyR(mM)',\n",
    "       'K_L(mM)', 'a', 'b', 'c', 'd', 'tau_s_ss']"
   ]
  },
  {
   "cell_type": "code",
   "execution_count": 312,
   "metadata": {},
   "outputs": [],
   "source": [
    "sign_indexes = []\n",
    "sign_headers = []\n",
    "for agt in range(3):\n",
    "  sign_ind = []\n",
    "  sign_head = []\n",
    "  for i in range(1,coeffs.shape[1]):\n",
    "\n",
    "    if np.any(abs(np.squeeze(coeffs[:,i,agt])) > np.max(abs(coeffs[:,:76,agt]))*0.5):  # Significant if 5% of maximum value\n",
    "      sign_ind.append(i)\n",
    "      sign_head.append(headers[i])\n",
    "  sign_indexes.append(sign_ind)\n",
    "  sign_headers.append(sign_head)\n",
    "  \n",
    "sign_indexes = np.array(sign_indexes)"
   ]
  },
  {
   "cell_type": "code",
   "execution_count": 313,
   "metadata": {},
   "outputs": [
    {
     "data": {
      "text/plain": [
       "[2, 3, 7, 8, 9, 11, 23, 25, 30, 41, 53, 59, 65, 69]"
      ]
     },
     "execution_count": 313,
     "metadata": {},
     "output_type": "execute_result"
    }
   ],
   "source": [
    "sign_indexes[2]"
   ]
  },
  {
   "cell_type": "code",
   "execution_count": 315,
   "metadata": {},
   "outputs": [
    {
     "data": {
      "text/plain": [
       "['V_myo_uL(uL)',\n",
       " 'V_SR_uL(uL)',\n",
       " 'K_o(millimolar)',\n",
       " 'Na_o(millimolar)',\n",
       " 'Ca_TRPN_Max(mM)',\n",
       " 'g_t(microS)',\n",
       " 'g_D(um3_per_ms)',\n",
       " 'J_L(um3_per_ms)',\n",
       " 'k_sat',\n",
       " 'k_Ref_off(per_ms)',\n",
       " 'T_ref(N_per_mm2)',\n",
       " 'alpha_2(per_ms)',\n",
       " 'tau_L(ms)',\n",
       " 'K_RyR(mM)']"
      ]
     },
     "execution_count": 315,
     "metadata": {},
     "output_type": "execute_result"
    }
   ],
   "source": [
    "sign_headers[2]"
   ]
  },
  {
   "cell_type": "code",
   "execution_count": 321,
   "metadata": {},
   "outputs": [
    {
     "data": {
      "image/png": "[encoded data removed]",
      "text/plain": [
       "<Figure size 1440x720 with 3 Axes>"
      ]
     },
     "metadata": {},
     "output_type": "display_data"
    }
   ],
   "source": [
    "new_sign_indexes = np.array(sign_indexes[2])\n",
    "new_sign_headers = np.array(sign_headers[2])\n",
    "plt.figure(figsize=(20,10))\n",
    "for n,agt in enumerate(ag_names):\n",
    "  plt.subplot(3,1,n+1)\n",
    "  plt.title(ag_names[n],fontweight='bold',fontsize=14)\n",
    "  width=0.1\n",
    "\n",
    "\n",
    "  x = np.array([i for i in range(0,14)])\n",
    "  plt.bar(x-0.2,coeffs[0,new_sign_indexes,n].T,width=width,label='cluster: 1');\n",
    "  plt.bar(x-0.1,coeffs[1,new_sign_indexes,n].T,width=width,label='cluster: 2');\n",
    "  plt.bar(x    ,coeffs[2,new_sign_indexes,n].T,width=width,label='cluster: 3');\n",
    "  plt.bar(x+0.1,coeffs[3,new_sign_indexes,n].T,width=width,label='cluster: 4');\n",
    "  plt.bar(x+0.2,coeffs[4,new_sign_indexes,n].T,width=width,label='cluster: 5');\n",
    "  plt.bar(x+0.3,coeffs[5,new_sign_indexes,n].T,width=width,label='cluster: 6');\n",
    "\n",
    "  if n == 0:\n",
    "    plt.ylim(-1.5,1.5)\n",
    "    plt.ylabel('Regression coeffisients',fontweight='bold',fontsize=12)\n",
    "    plt.tick_params(axis='x',labelbottom=False)\n",
    "    plt.legend(bbox_to_anchor=(1, 1),prop={'size': 20})\n",
    "    \n",
    "  elif n == 1:\n",
    "    plt.ylim(-1.5,1.5)\n",
    "    plt.ylabel('Regression coeffisients',fontweight='bold',fontsize=12)\n",
    "    plt.tick_params(axis='x',labelbottom=False)\n",
    "    \n",
    "    \n",
    "  else:\n",
    "    plt.ylim(-1.5,1.5)\n",
    "    plt.ylabel('Regression coeffisients',fontweight='bold',fontsize=12)\n",
    "    #plt.xticks(x,new_sign_headers,fontweight='bold',fontsize=16,rotation=90);\n",
    "    ax=plt.gca()\n",
    "    ax.set_xticks(x)\n",
    "    \n",
    "    ax.tick_params(labelsize=15)\n",
    "    ax.set_xticklabels(new_sign_headers, weight='bold', rotation=45)\n",
    "    plt.xlabel('Parameter',fontweight='bold',fontsize=100)\n",
    "\n",
    "    plt.xlabel('Parameter',fontweight='bold',fontsize=25)\n",
    "    \n",
    "    \n",
    "    \n",
    "\n",
    "\n",
    "plt.tight_layout()"
   ]
  },
  {
   "cell_type": "code",
   "execution_count": null,
   "metadata": {},
   "outputs": [],
   "source": []
  }
 ],
 "metadata": {
  "kernelspec": {
   "display_name": "Python 3",
   "language": "python",
   "name": "python3"
  },
  "language_info": {
   "codemirror_mode": {
    "name": "ipython",
    "version": 3
   },
   "file_extension": ".py",
   "mimetype": "text/x-python",
   "name": "python",
   "nbconvert_exporter": "python",
   "pygments_lexer": "ipython3",
   "version": "3.7.3"
  }
 },
 "nbformat": 4,
 "nbformat_minor": 4
}
